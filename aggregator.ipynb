{
 "cells": [
  {
   "cell_type": "markdown",
   "metadata": {},
   "source": [
    "### Importing scraper and necessary libraries"
   ]
  },
  {
   "cell_type": "code",
   "execution_count": 1,
   "metadata": {},
   "outputs": [],
   "source": [
    "from scraper import listing_df\n",
    "import pandas as pd\n",
    "import matplotlib.pyplot as plt\n",
    "from datetime import date\n",
    "import seaborn as sns\n",
    "import webbrowser as wb"
   ]
  },
  {
   "cell_type": "markdown",
   "metadata": {},
   "source": [
    "### Initializing Dataframe "
   ]
  },
  {
   "cell_type": "code",
   "execution_count": 2,
   "metadata": {},
   "outputs": [],
   "source": [
    "df = listing_df"
   ]
  },
  {
   "cell_type": "markdown",
   "metadata": {},
   "source": [
    "### Checking and dropping NaN values if any"
   ]
  },
  {
   "cell_type": "code",
   "execution_count": 3,
   "metadata": {},
   "outputs": [
    {
     "name": "stdout",
     "output_type": "stream",
     "text": [
      "prop_ID       0\n",
      "rent_pw       0\n",
      "suburb        0\n",
      "avail_date    0\n",
      "bills_inc     0\n",
      "prop_pop      0\n",
      "beds          0\n",
      "baths         0\n",
      "dtype: int64\n"
     ]
    }
   ],
   "source": [
    "print(df.isna().sum())"
   ]
  },
  {
   "attachments": {},
   "cell_type": "markdown",
   "metadata": {},
   "source": [
    "### Describing dataset"
   ]
  },
  {
   "cell_type": "code",
   "execution_count": 4,
   "metadata": {},
   "outputs": [
    {
     "data": {
      "text/html": [
       "<div>\n",
       "<style scoped>\n",
       "    .dataframe tbody tr th:only-of-type {\n",
       "        vertical-align: middle;\n",
       "    }\n",
       "\n",
       "    .dataframe tbody tr th {\n",
       "        vertical-align: top;\n",
       "    }\n",
       "\n",
       "    .dataframe thead th {\n",
       "        text-align: right;\n",
       "    }\n",
       "</style>\n",
       "<table border=\"1\" class=\"dataframe\">\n",
       "  <thead>\n",
       "    <tr style=\"text-align: right;\">\n",
       "      <th></th>\n",
       "      <th>prop_ID</th>\n",
       "      <th>rent_pw</th>\n",
       "      <th>suburb</th>\n",
       "      <th>avail_date</th>\n",
       "      <th>bills_inc</th>\n",
       "      <th>prop_pop</th>\n",
       "      <th>beds</th>\n",
       "      <th>baths</th>\n",
       "    </tr>\n",
       "  </thead>\n",
       "  <tbody>\n",
       "    <tr>\n",
       "      <th>count</th>\n",
       "      <td>252</td>\n",
       "      <td>252</td>\n",
       "      <td>252</td>\n",
       "      <td>252</td>\n",
       "      <td>252</td>\n",
       "      <td>252</td>\n",
       "      <td>252</td>\n",
       "      <td>252</td>\n",
       "    </tr>\n",
       "    <tr>\n",
       "      <th>unique</th>\n",
       "      <td>252</td>\n",
       "      <td>72</td>\n",
       "      <td>144</td>\n",
       "      <td>39</td>\n",
       "      <td>2</td>\n",
       "      <td>8</td>\n",
       "      <td>6</td>\n",
       "      <td>4</td>\n",
       "    </tr>\n",
       "    <tr>\n",
       "      <th>top</th>\n",
       "      <td>1-bed-sydney-epping-2121-P1270615</td>\n",
       "      <td>350</td>\n",
       "      <td>Randwick</td>\n",
       "      <td>Available Now</td>\n",
       "      <td>Yes</td>\n",
       "      <td>2</td>\n",
       "      <td>3</td>\n",
       "      <td>2</td>\n",
       "    </tr>\n",
       "    <tr>\n",
       "      <th>freq</th>\n",
       "      <td>1</td>\n",
       "      <td>22</td>\n",
       "      <td>7</td>\n",
       "      <td>159</td>\n",
       "      <td>184</td>\n",
       "      <td>56</td>\n",
       "      <td>66</td>\n",
       "      <td>115</td>\n",
       "    </tr>\n",
       "  </tbody>\n",
       "</table>\n",
       "</div>"
      ],
      "text/plain": [
       "                                  prop_ID rent_pw    suburb     avail_date  \\\n",
       "count                                 252     252       252            252   \n",
       "unique                                252      72       144             39   \n",
       "top     1-bed-sydney-epping-2121-P1270615     350  Randwick  Available Now   \n",
       "freq                                    1      22         7            159   \n",
       "\n",
       "       bills_inc prop_pop beds baths  \n",
       "count        252      252  252   252  \n",
       "unique         2        8    6     4  \n",
       "top          Yes        2    3     2  \n",
       "freq         184       56   66   115  "
      ]
     },
     "execution_count": 4,
     "metadata": {},
     "output_type": "execute_result"
    }
   ],
   "source": [
    "df.describe()"
   ]
  },
  {
   "cell_type": "markdown",
   "metadata": {},
   "source": [
    "### Checking for duplicates"
   ]
  },
  {
   "cell_type": "code",
   "execution_count": 5,
   "metadata": {},
   "outputs": [
    {
     "name": "stdout",
     "output_type": "stream",
     "text": [
      "No duplicates found!\n"
     ]
    }
   ],
   "source": [
    "try:\n",
    "    print(pd.concat(x for _, x in df.groupby(\"prop_ID\") if len(x) > 1))\n",
    "except ValueError as err:\n",
    "    print(\"No duplicates found!\")"
   ]
  },
  {
   "cell_type": "markdown",
   "metadata": {},
   "source": [
    "### Removing duplicates if any"
   ]
  },
  {
   "cell_type": "code",
   "execution_count": 6,
   "metadata": {},
   "outputs": [],
   "source": [
    "df.drop_duplicates(inplace=True)"
   ]
  },
  {
   "cell_type": "markdown",
   "metadata": {},
   "source": [
    "### Formatting columns to relevant types"
   ]
  },
  {
   "cell_type": "code",
   "execution_count": 7,
   "metadata": {},
   "outputs": [],
   "source": [
    " # Removing commas from the rent column\n",
    "df[\"rent_pw\"] = df[\"rent_pw\"].replace(\",\",\"\",regex=True)\n",
    "\n",
    "# Converting beds, baths, rent_pw, prop_pop columns to int\n",
    "df[[\"prop_pop\",\"beds\",\"baths\",\"rent_pw\"]] = df[[\"prop_pop\",\"beds\",\"baths\",\"rent_pw\"]].apply(pd.to_numeric)\n",
    "\n",
    "# Removing \"Available \" from avail_date column\n",
    "df[\"avail_date\"] = df[\"avail_date\"].replace(\"Available \",\"\",regex=True)\n",
    "\n",
    "# Replacing \"Now\" with today's date\n",
    "df.loc[(df[\"avail_date\"]==\"Now\"), \"avail_date\"] = date.today()\n",
    "\n",
    "# Converting avail_date column to datetime data type\n",
    "df[\"avail_date\"] = pd.to_datetime(df[\"avail_date\"]) "
   ]
  },
  {
   "cell_type": "markdown",
   "metadata": {},
   "source": [
    "### Getting property type from the `prop_ID` column"
   ]
  },
  {
   "cell_type": "code",
   "execution_count": 8,
   "metadata": {},
   "outputs": [],
   "source": [
    "# Initializing a property type column from the prop_ID column\n",
    "prop_type = df[\"prop_ID\"].str.split(\"-sydney\", n=1, expand=True)\n",
    "\n",
    "# Setting prop_type column first array element (first split)\n",
    "df[\"prop_type\"] = prop_type[0]\n",
    "\n",
    "# Replacing \"-\" with spaces to clean up column\n",
    "df[\"prop_type\"] = df[\"prop_type\"].replace(\"-\",\" \",regex=True)\n",
    "\n",
    "# Capitalizing column values\n",
    "df[\"prop_type\"] = df[\"prop_type\"].str.capitalize()"
   ]
  },
  {
   "cell_type": "markdown",
   "metadata": {},
   "source": [
    "### Describing dataset after converting columns to relevant data types"
   ]
  },
  {
   "cell_type": "code",
   "execution_count": 9,
   "metadata": {},
   "outputs": [
    {
     "data": {
      "text/html": [
       "<div>\n",
       "<style scoped>\n",
       "    .dataframe tbody tr th:only-of-type {\n",
       "        vertical-align: middle;\n",
       "    }\n",
       "\n",
       "    .dataframe tbody tr th {\n",
       "        vertical-align: top;\n",
       "    }\n",
       "\n",
       "    .dataframe thead th {\n",
       "        text-align: right;\n",
       "    }\n",
       "</style>\n",
       "<table border=\"1\" class=\"dataframe\">\n",
       "  <thead>\n",
       "    <tr style=\"text-align: right;\">\n",
       "      <th></th>\n",
       "      <th>rent_pw</th>\n",
       "      <th>prop_pop</th>\n",
       "      <th>beds</th>\n",
       "      <th>baths</th>\n",
       "    </tr>\n",
       "  </thead>\n",
       "  <tbody>\n",
       "    <tr>\n",
       "      <th>count</th>\n",
       "      <td>252.000000</td>\n",
       "      <td>252.000000</td>\n",
       "      <td>252.000000</td>\n",
       "      <td>252.000000</td>\n",
       "    </tr>\n",
       "    <tr>\n",
       "      <th>mean</th>\n",
       "      <td>392.765873</td>\n",
       "      <td>2.730159</td>\n",
       "      <td>3.297619</td>\n",
       "      <td>2.083333</td>\n",
       "    </tr>\n",
       "    <tr>\n",
       "      <th>std</th>\n",
       "      <td>527.776140</td>\n",
       "      <td>1.784898</td>\n",
       "      <td>1.429176</td>\n",
       "      <td>0.881980</td>\n",
       "    </tr>\n",
       "    <tr>\n",
       "      <th>min</th>\n",
       "      <td>70.000000</td>\n",
       "      <td>0.000000</td>\n",
       "      <td>1.000000</td>\n",
       "      <td>1.000000</td>\n",
       "    </tr>\n",
       "    <tr>\n",
       "      <th>25%</th>\n",
       "      <td>260.000000</td>\n",
       "      <td>1.000000</td>\n",
       "      <td>2.000000</td>\n",
       "      <td>1.000000</td>\n",
       "    </tr>\n",
       "    <tr>\n",
       "      <th>50%</th>\n",
       "      <td>320.000000</td>\n",
       "      <td>3.000000</td>\n",
       "      <td>3.000000</td>\n",
       "      <td>2.000000</td>\n",
       "    </tr>\n",
       "    <tr>\n",
       "      <th>75%</th>\n",
       "      <td>426.250000</td>\n",
       "      <td>4.000000</td>\n",
       "      <td>4.000000</td>\n",
       "      <td>3.000000</td>\n",
       "    </tr>\n",
       "    <tr>\n",
       "      <th>max</th>\n",
       "      <td>8000.000000</td>\n",
       "      <td>7.000000</td>\n",
       "      <td>6.000000</td>\n",
       "      <td>4.000000</td>\n",
       "    </tr>\n",
       "  </tbody>\n",
       "</table>\n",
       "</div>"
      ],
      "text/plain": [
       "           rent_pw    prop_pop        beds       baths\n",
       "count   252.000000  252.000000  252.000000  252.000000\n",
       "mean    392.765873    2.730159    3.297619    2.083333\n",
       "std     527.776140    1.784898    1.429176    0.881980\n",
       "min      70.000000    0.000000    1.000000    1.000000\n",
       "25%     260.000000    1.000000    2.000000    1.000000\n",
       "50%     320.000000    3.000000    3.000000    2.000000\n",
       "75%     426.250000    4.000000    4.000000    3.000000\n",
       "max    8000.000000    7.000000    6.000000    4.000000"
      ]
     },
     "execution_count": 9,
     "metadata": {},
     "output_type": "execute_result"
    }
   ],
   "source": [
    "df.describe()"
   ]
  },
  {
   "cell_type": "code",
   "execution_count": 10,
   "metadata": {},
   "outputs": [
    {
     "data": {
      "text/html": [
       "<div>\n",
       "<style scoped>\n",
       "    .dataframe tbody tr th:only-of-type {\n",
       "        vertical-align: middle;\n",
       "    }\n",
       "\n",
       "    .dataframe tbody tr th {\n",
       "        vertical-align: top;\n",
       "    }\n",
       "\n",
       "    .dataframe thead th {\n",
       "        text-align: right;\n",
       "    }\n",
       "</style>\n",
       "<table border=\"1\" class=\"dataframe\">\n",
       "  <thead>\n",
       "    <tr style=\"text-align: right;\">\n",
       "      <th></th>\n",
       "      <th>prop_ID</th>\n",
       "      <th>rent_pw</th>\n",
       "      <th>suburb</th>\n",
       "      <th>avail_date</th>\n",
       "      <th>bills_inc</th>\n",
       "      <th>prop_pop</th>\n",
       "      <th>beds</th>\n",
       "      <th>baths</th>\n",
       "      <th>prop_type</th>\n",
       "    </tr>\n",
       "  </thead>\n",
       "  <tbody>\n",
       "    <tr>\n",
       "      <th>0</th>\n",
       "      <td>share-house-sydney-lavender-bay-2060-P1240929</td>\n",
       "      <td>540</td>\n",
       "      <td>Lavender Bay</td>\n",
       "      <td>2023-01-02</td>\n",
       "      <td>Yes</td>\n",
       "      <td>2</td>\n",
       "      <td>2</td>\n",
       "      <td>2</td>\n",
       "      <td>Share house</td>\n",
       "    </tr>\n",
       "    <tr>\n",
       "      <th>1</th>\n",
       "      <td>share-house-sydney-gymea-2227-P961141</td>\n",
       "      <td>275</td>\n",
       "      <td>Gymea</td>\n",
       "      <td>2022-12-22</td>\n",
       "      <td>No</td>\n",
       "      <td>1</td>\n",
       "      <td>3</td>\n",
       "      <td>1</td>\n",
       "      <td>Share house</td>\n",
       "    </tr>\n",
       "    <tr>\n",
       "      <th>2</th>\n",
       "      <td>studio-sydney-concord-west-2138-P1278107</td>\n",
       "      <td>425</td>\n",
       "      <td>Concord West</td>\n",
       "      <td>2022-12-22</td>\n",
       "      <td>Yes</td>\n",
       "      <td>0</td>\n",
       "      <td>1</td>\n",
       "      <td>1</td>\n",
       "      <td>Studio</td>\n",
       "    </tr>\n",
       "    <tr>\n",
       "      <th>3</th>\n",
       "      <td>whole-property-sydney-north-ryde-2113-P1092185</td>\n",
       "      <td>400</td>\n",
       "      <td>North Ryde</td>\n",
       "      <td>2022-12-22</td>\n",
       "      <td>Yes</td>\n",
       "      <td>0</td>\n",
       "      <td>3</td>\n",
       "      <td>3</td>\n",
       "      <td>Whole property</td>\n",
       "    </tr>\n",
       "    <tr>\n",
       "      <th>4</th>\n",
       "      <td>granny-flat-sydney-winston-hills-2153-P1263162</td>\n",
       "      <td>380</td>\n",
       "      <td>Winston Hills</td>\n",
       "      <td>2022-12-22</td>\n",
       "      <td>No</td>\n",
       "      <td>0</td>\n",
       "      <td>1</td>\n",
       "      <td>1</td>\n",
       "      <td>Granny flat</td>\n",
       "    </tr>\n",
       "    <tr>\n",
       "      <th>...</th>\n",
       "      <td>...</td>\n",
       "      <td>...</td>\n",
       "      <td>...</td>\n",
       "      <td>...</td>\n",
       "      <td>...</td>\n",
       "      <td>...</td>\n",
       "      <td>...</td>\n",
       "      <td>...</td>\n",
       "      <td>...</td>\n",
       "    </tr>\n",
       "    <tr>\n",
       "      <th>247</th>\n",
       "      <td>share-house-sydney-sydney-olympic-park-2127-P9...</td>\n",
       "      <td>350</td>\n",
       "      <td>Sydney Olympic Park</td>\n",
       "      <td>2023-01-06</td>\n",
       "      <td>No</td>\n",
       "      <td>1</td>\n",
       "      <td>2</td>\n",
       "      <td>2</td>\n",
       "      <td>Share house</td>\n",
       "    </tr>\n",
       "    <tr>\n",
       "      <th>248</th>\n",
       "      <td>share-house-sydney-maroubra-2035-P688098</td>\n",
       "      <td>240</td>\n",
       "      <td>Maroubra</td>\n",
       "      <td>2022-12-22</td>\n",
       "      <td>Yes</td>\n",
       "      <td>4</td>\n",
       "      <td>4</td>\n",
       "      <td>2</td>\n",
       "      <td>Share house</td>\n",
       "    </tr>\n",
       "    <tr>\n",
       "      <th>249</th>\n",
       "      <td>share-house-sydney-kareela-2232-P620370</td>\n",
       "      <td>300</td>\n",
       "      <td>Kareela</td>\n",
       "      <td>2022-12-22</td>\n",
       "      <td>No</td>\n",
       "      <td>2</td>\n",
       "      <td>5</td>\n",
       "      <td>4</td>\n",
       "      <td>Share house</td>\n",
       "    </tr>\n",
       "    <tr>\n",
       "      <th>250</th>\n",
       "      <td>share-house-sydney-coogee-2034-P1279352</td>\n",
       "      <td>430</td>\n",
       "      <td>Coogee</td>\n",
       "      <td>2022-12-22</td>\n",
       "      <td>Yes</td>\n",
       "      <td>2</td>\n",
       "      <td>2</td>\n",
       "      <td>1</td>\n",
       "      <td>Share house</td>\n",
       "    </tr>\n",
       "    <tr>\n",
       "      <th>251</th>\n",
       "      <td>share-house-sydney-coogee-2034-P1275670</td>\n",
       "      <td>430</td>\n",
       "      <td>Coogee</td>\n",
       "      <td>2022-12-22</td>\n",
       "      <td>Yes</td>\n",
       "      <td>2</td>\n",
       "      <td>2</td>\n",
       "      <td>1</td>\n",
       "      <td>Share house</td>\n",
       "    </tr>\n",
       "  </tbody>\n",
       "</table>\n",
       "<p>252 rows × 9 columns</p>\n",
       "</div>"
      ],
      "text/plain": [
       "                                               prop_ID  rent_pw  \\\n",
       "0        share-house-sydney-lavender-bay-2060-P1240929      540   \n",
       "1                share-house-sydney-gymea-2227-P961141      275   \n",
       "2             studio-sydney-concord-west-2138-P1278107      425   \n",
       "3       whole-property-sydney-north-ryde-2113-P1092185      400   \n",
       "4       granny-flat-sydney-winston-hills-2153-P1263162      380   \n",
       "..                                                 ...      ...   \n",
       "247  share-house-sydney-sydney-olympic-park-2127-P9...      350   \n",
       "248           share-house-sydney-maroubra-2035-P688098      240   \n",
       "249            share-house-sydney-kareela-2232-P620370      300   \n",
       "250            share-house-sydney-coogee-2034-P1279352      430   \n",
       "251            share-house-sydney-coogee-2034-P1275670      430   \n",
       "\n",
       "                  suburb avail_date bills_inc  prop_pop  beds  baths  \\\n",
       "0           Lavender Bay 2023-01-02       Yes         2     2      2   \n",
       "1                  Gymea 2022-12-22        No         1     3      1   \n",
       "2           Concord West 2022-12-22       Yes         0     1      1   \n",
       "3             North Ryde 2022-12-22       Yes         0     3      3   \n",
       "4          Winston Hills 2022-12-22        No         0     1      1   \n",
       "..                   ...        ...       ...       ...   ...    ...   \n",
       "247  Sydney Olympic Park 2023-01-06        No         1     2      2   \n",
       "248             Maroubra 2022-12-22       Yes         4     4      2   \n",
       "249              Kareela 2022-12-22        No         2     5      4   \n",
       "250               Coogee 2022-12-22       Yes         2     2      1   \n",
       "251               Coogee 2022-12-22       Yes         2     2      1   \n",
       "\n",
       "          prop_type  \n",
       "0       Share house  \n",
       "1       Share house  \n",
       "2            Studio  \n",
       "3    Whole property  \n",
       "4       Granny flat  \n",
       "..              ...  \n",
       "247     Share house  \n",
       "248     Share house  \n",
       "249     Share house  \n",
       "250     Share house  \n",
       "251     Share house  \n",
       "\n",
       "[252 rows x 9 columns]"
      ]
     },
     "execution_count": 10,
     "metadata": {},
     "output_type": "execute_result"
    }
   ],
   "source": [
    "def url_creator(id):\n",
    "    return f'https://flatmates.com.au/{id}'\n",
    "\n",
    "df"
   ]
  },
  {
   "attachments": {},
   "cell_type": "markdown",
   "metadata": {},
   "source": [
    "## Checking distribution of rent values"
   ]
  },
  {
   "cell_type": "code",
   "execution_count": 11,
   "metadata": {},
   "outputs": [
    {
     "data": {
      "image/png": "[encoded data removed]",
      "text/plain": [
       "<Figure size 720x360 with 1 Axes>"
      ]
     },
     "metadata": {},
     "output_type": "display_data"
    }
   ],
   "source": [
    "# Plotting frequency histogram to check distribution of rent values\n",
    "sns.set(rc={\"figure.figsize\":(10,5)})\n",
    "plt.hist(df[\"rent_pw\"],color=\"salmon\",edgecolor=\"blue\")\n",
    "\n",
    "plt.title(\"Distribution of rent values\")\n",
    "plt.xlabel(\"Rent\")\n",
    "plt.ylabel(\"Frequency\")\n",
    "plt.show()"
   ]
  },
  {
   "cell_type": "markdown",
   "metadata": {},
   "source": [
    "### Heatmap to look for patterns"
   ]
  },
  {
   "cell_type": "code",
   "execution_count": 12,
   "metadata": {},
   "outputs": [
    {
     "data": {
      "image/png": "[encoded data removed]",
      "text/plain": [
       "<Figure size 720x360 with 2 Axes>"
      ]
     },
     "metadata": {},
     "output_type": "display_data"
    }
   ],
   "source": [
    "# Creating a view with only numerical values\n",
    "numerical_data = df[[\"prop_pop\",\"beds\",\"baths\",\"rent_pw\"]]\n",
    "\n",
    "# creating a heatmap of correlation amongst values\n",
    "sns.set(rc={\"figure.figsize\":(10,5)}) \n",
    "sns.heatmap(numerical_data.corr(),annot=True)\n",
    "\n",
    "plt.title(\"Correlation matrix\")\n",
    "plt.show()"
   ]
  },
  {
   "attachments": {},
   "cell_type": "markdown",
   "metadata": {},
   "source": [
    "##### Negative correlation amongst rent, beds and bathrooms indicates that rent does not necessarily increase with respect to number of beds and baths."
   ]
  },
  {
   "attachments": {},
   "cell_type": "markdown",
   "metadata": {},
   "source": [
    "### Median rent by property type"
   ]
  },
  {
   "cell_type": "code",
   "execution_count": 13,
   "metadata": {},
   "outputs": [
    {
     "data": {
      "text/html": [
       "<div>\n",
       "<style scoped>\n",
       "    .dataframe tbody tr th:only-of-type {\n",
       "        vertical-align: middle;\n",
       "    }\n",
       "\n",
       "    .dataframe tbody tr th {\n",
       "        vertical-align: top;\n",
       "    }\n",
       "\n",
       "    .dataframe thead th {\n",
       "        text-align: right;\n",
       "    }\n",
       "</style>\n",
       "<table border=\"1\" class=\"dataframe\">\n",
       "  <thead>\n",
       "    <tr style=\"text-align: right;\">\n",
       "      <th></th>\n",
       "      <th>Prop_type</th>\n",
       "      <th>Median Rent</th>\n",
       "    </tr>\n",
       "  </thead>\n",
       "  <tbody>\n",
       "    <tr>\n",
       "      <th>0</th>\n",
       "      <td>1 bed</td>\n",
       "      <td>510.0</td>\n",
       "    </tr>\n",
       "    <tr>\n",
       "      <th>1</th>\n",
       "      <td>Granny flat</td>\n",
       "      <td>415.0</td>\n",
       "    </tr>\n",
       "    <tr>\n",
       "      <th>2</th>\n",
       "      <td>Homestay</td>\n",
       "      <td>285.0</td>\n",
       "    </tr>\n",
       "    <tr>\n",
       "      <th>3</th>\n",
       "      <td>Share house</td>\n",
       "      <td>315.0</td>\n",
       "    </tr>\n",
       "    <tr>\n",
       "      <th>4</th>\n",
       "      <td>Student accommodation</td>\n",
       "      <td>313.5</td>\n",
       "    </tr>\n",
       "    <tr>\n",
       "      <th>5</th>\n",
       "      <td>Studio</td>\n",
       "      <td>450.0</td>\n",
       "    </tr>\n",
       "    <tr>\n",
       "      <th>6</th>\n",
       "      <td>Whole property</td>\n",
       "      <td>710.0</td>\n",
       "    </tr>\n",
       "  </tbody>\n",
       "</table>\n",
       "</div>"
      ],
      "text/plain": [
       "               Prop_type  Median Rent\n",
       "0                  1 bed        510.0\n",
       "1            Granny flat        415.0\n",
       "2               Homestay        285.0\n",
       "3            Share house        315.0\n",
       "4  Student accommodation        313.5\n",
       "5                 Studio        450.0\n",
       "6         Whole property        710.0"
      ]
     },
     "execution_count": 13,
     "metadata": {},
     "output_type": "execute_result"
    }
   ],
   "source": [
    "med_rent_per_prop = df.groupby([\"prop_type\"], as_index=False).median()\n",
    "med_rent_per_prop = med_rent_per_prop[[\"prop_type\",\"rent_pw\"]]\n",
    "med_rent_per_prop.columns = [\"Prop_type\",\"Median Rent\"]\n",
    "med_rent_per_prop"
   ]
  },
  {
   "cell_type": "code",
   "execution_count": 14,
   "metadata": {},
   "outputs": [
    {
     "data": {
      "image/png": "[encoded data removed]",
      "text/plain": [
       "<Figure size 720x360 with 1 Axes>"
      ]
     },
     "metadata": {},
     "output_type": "display_data"
    }
   ],
   "source": [
    "sns.set(rc={\"figure.figsize\":(10,5)})\n",
    "palette = sns.color_palette(\"Reds_d\", len(med_rent_per_prop)+6)\n",
    "fig = sns.barplot(x=med_rent_per_prop['Prop_type'],y=med_rent_per_prop[\"Median Rent\"],palette=palette)\n",
    "fig.set_xticklabels(fig.get_xticklabels(),fontsize=10, rotation =30, ha=\"right\")\n",
    "plt.title(\"Median Rent per property type\")\n",
    "\n",
    "plt.ylabel(\"Median rent\")\n",
    "plt.show() "
   ]
  },
  {
   "cell_type": "markdown",
   "metadata": {},
   "source": [
    "### Checking rent values"
   ]
  },
  {
   "cell_type": "code",
   "execution_count": 15,
   "metadata": {},
   "outputs": [
    {
     "data": {
      "image/png": "[encoded data removed]",
      "text/plain": [
       "<Figure size 1008x504 with 1 Axes>"
      ]
     },
     "metadata": {},
     "output_type": "display_data"
    }
   ],
   "source": [
    "# Checking for more outliers by creating boxplots\n",
    "sns.set(rc={\"figure.figsize\":(14,7)})\n",
    "sns.boxplot(df['prop_type'], df[\"rent_pw\"])\n",
    "plt.xlabel(\"Property Type\")\n",
    "plt.ylabel(\"Rent\")\n",
    "plt.title(\"Rent per Property Type\")\n",
    "plt.show()"
   ]
  },
  {
   "cell_type": "markdown",
   "metadata": {},
   "source": [
    "### Finding the minimum rent with bills included"
   ]
  },
  {
   "cell_type": "code",
   "execution_count": 16,
   "metadata": {},
   "outputs": [
    {
     "name": "stdout",
     "output_type": "stream",
     "text": [
      "Click URL to view the property with the lowest rent where bills are included : \n",
      " \thttps://flatmates.com.au/share-house-sydney-penrith-2750-P1133933\n"
     ]
    }
   ],
   "source": [
    "# Creating views where bills are included in rent\n",
    "view = df.loc[(df[\"bills_inc\"] == \"Yes\")]\n",
    "\n",
    "# Getting rows with minimum rent where bills are included\n",
    "result = view.loc[(view[\"rent_pw\"] == view[\"rent_pw\"].min())]\n",
    "\n",
    "# Getting url for the property \n",
    "url = url_creator(result['prop_ID'].values[0])\n",
    "print(f\"Click URL to view the property with the lowest rent where bills are included : \\n \\t{url}\")"
   ]
  },
  {
   "cell_type": "markdown",
   "metadata": {},
   "source": [
    "### Finding minimum rent where share houses have 1 bathroom per 2 people"
   ]
  },
  {
   "cell_type": "markdown",
   "metadata": {},
   "source": [
    "Property population was increased by 1 to simulate the number of bathrooms available per person after one more person moves into the property. "
   ]
  },
  {
   "cell_type": "code",
   "execution_count": 17,
   "metadata": {},
   "outputs": [
    {
     "name": "stdout",
     "output_type": "stream",
     "text": [
      "Click URL to view the property with the lowest rent where share houses have 1 bathroom per 2 people : \n",
      " \thttps://flatmates.com.au/share-house-sydney-penrith-2750-P1133933\n"
     ]
    }
   ],
   "source": [
    "# Creating bath-to-pop ratio column (rounded to one decimal)\n",
    "df[\"bath_to_pop_ratio\"] = (df[\"baths\"]/(df[\"prop_pop\"]+1)).round(1)\n",
    "\n",
    "# Getting share houses where there are atleast 1 bathroom per 2 bedrooms\n",
    "view = df.loc[(df[\"bath_to_pop_ratio\"] >= 0.5) & (df[\"prop_type\"] == \"Share house\")]\n",
    "\n",
    "# getting minimum rent where there are atleast 1 bathroom per 2 bedrooms\n",
    "result = view.loc[(view[\"rent_pw\"] == view[\"rent_pw\"].min())]\n",
    "\n",
    "url = url_creator(result['prop_ID'].values[0])\n",
    "print(f\"Click URL to view the property with the lowest rent where share houses have 1 bathroom per 2 people : \\n \\t{url}\")"
   ]
  },
  {
   "cell_type": "markdown",
   "metadata": {},
   "source": [
    "### Share houses with a population between 1 and 3"
   ]
  },
  {
   "cell_type": "code",
   "execution_count": 18,
   "metadata": {},
   "outputs": [
    {
     "name": "stdout",
     "output_type": "stream",
     "text": [
      "Click URL to view the property with the lowest rent where share houses between 1 and 3 people: \n",
      " \thttps://flatmates.com.au/share-house-sydney-penrith-2750-P1133933\n"
     ]
    }
   ],
   "source": [
    "# Creating views to get share houses with a population in range 1 - 3 (inclusive)\n",
    "view = df.loc[(df[\"prop_pop\"] >= 1) & (df[\"prop_pop\"] <= 3) & (df[\"prop_type\"] == \"Share house\")]\n",
    "result = view.loc[(view[\"rent_pw\"] == view[\"rent_pw\"].min())]\n",
    "\n",
    "url = url_creator(result['prop_ID'].values[0])\n",
    "print(f\"Click URL to view the property with the lowest rent where share houses between 1 and 3 people: \\n \\t{url}\")"
   ]
  },
  {
   "cell_type": "markdown",
   "metadata": {},
   "source": [
    "### Properties available in the next 10 days"
   ]
  },
  {
   "cell_type": "code",
   "execution_count": 22,
   "metadata": {},
   "outputs": [
    {
     "name": "stdout",
     "output_type": "stream",
     "text": [
      "10 properties available in 10 days \n",
      "\n",
      "Click on URLs given to below to view properties available in the next 10 days \n",
      "\n",
      "\t 1. https://flatmates.com.au/student-accommodation-sydney-milperra-2214-P1079356 \n",
      "\n",
      "\t 2. https://flatmates.com.au/student-accommodation-sydney-richmond-2753-P1079342 \n",
      "\n",
      "\t 3. https://flatmates.com.au/student-accommodation-sydney-parramatta-2150-P1077348 \n",
      "\n",
      "\t 4. https://flatmates.com.au/share-house-sydney-yagoona-2199-P1279604 \n",
      "\n",
      "\t 5. https://flatmates.com.au/student-accommodation-sydney-marsfield-2122-P1077300 \n",
      "\n",
      "\t 6. https://flatmates.com.au/student-accommodation-sydney-frenchs-forest-2086-P1279753 \n",
      "\n",
      "\t 7. https://flatmates.com.au/student-accommodation-sydney-randwick-2031-P1077243 \n",
      "\n",
      "\t 8. https://flatmates.com.au/share-house-sydney-lane-cove-north-2066-P1237034 \n",
      "\n",
      "\t 9. https://flatmates.com.au/student-accommodation-sydney-newtown-2042-P453555 \n",
      "\n",
      "\t 10. https://flatmates.com.au/share-house-sydney-2000-P1279696 \n",
      "\n"
     ]
    },
    {
     "data": {
      "text/html": [
       "<div>\n",
       "<style scoped>\n",
       "    .dataframe tbody tr th:only-of-type {\n",
       "        vertical-align: middle;\n",
       "    }\n",
       "\n",
       "    .dataframe tbody tr th {\n",
       "        vertical-align: top;\n",
       "    }\n",
       "\n",
       "    .dataframe thead th {\n",
       "        text-align: right;\n",
       "    }\n",
       "</style>\n",
       "<table border=\"1\" class=\"dataframe\">\n",
       "  <thead>\n",
       "    <tr style=\"text-align: right;\">\n",
       "      <th></th>\n",
       "      <th>prop_ID</th>\n",
       "      <th>rent_pw</th>\n",
       "      <th>suburb</th>\n",
       "      <th>avail_date</th>\n",
       "      <th>bills_inc</th>\n",
       "      <th>prop_pop</th>\n",
       "      <th>beds</th>\n",
       "      <th>baths</th>\n",
       "      <th>prop_type</th>\n",
       "      <th>bath_to_pop_ratio</th>\n",
       "      <th>days_to_avail</th>\n",
       "    </tr>\n",
       "  </thead>\n",
       "  <tbody>\n",
       "    <tr>\n",
       "      <th>227</th>\n",
       "      <td>student-accommodation-sydney-milperra-2214-P10...</td>\n",
       "      <td>187</td>\n",
       "      <td>Milperra</td>\n",
       "      <td>2023-01-01</td>\n",
       "      <td>Yes</td>\n",
       "      <td>5</td>\n",
       "      <td>5</td>\n",
       "      <td>2</td>\n",
       "      <td>Student accommodation</td>\n",
       "      <td>0.3</td>\n",
       "      <td>10</td>\n",
       "    </tr>\n",
       "    <tr>\n",
       "      <th>229</th>\n",
       "      <td>student-accommodation-sydney-richmond-2753-P10...</td>\n",
       "      <td>187</td>\n",
       "      <td>Richmond</td>\n",
       "      <td>2023-01-01</td>\n",
       "      <td>Yes</td>\n",
       "      <td>5</td>\n",
       "      <td>5</td>\n",
       "      <td>2</td>\n",
       "      <td>Student accommodation</td>\n",
       "      <td>0.3</td>\n",
       "      <td>10</td>\n",
       "    </tr>\n",
       "    <tr>\n",
       "      <th>224</th>\n",
       "      <td>student-accommodation-sydney-parramatta-2150-P...</td>\n",
       "      <td>245</td>\n",
       "      <td>Parramatta</td>\n",
       "      <td>2023-01-01</td>\n",
       "      <td>Yes</td>\n",
       "      <td>6</td>\n",
       "      <td>6</td>\n",
       "      <td>2</td>\n",
       "      <td>Student accommodation</td>\n",
       "      <td>0.3</td>\n",
       "      <td>10</td>\n",
       "    </tr>\n",
       "    <tr>\n",
       "      <th>155</th>\n",
       "      <td>share-house-sydney-yagoona-2199-P1279604</td>\n",
       "      <td>295</td>\n",
       "      <td>Yagoona</td>\n",
       "      <td>2023-01-01</td>\n",
       "      <td>Yes</td>\n",
       "      <td>2</td>\n",
       "      <td>3</td>\n",
       "      <td>3</td>\n",
       "      <td>Share house</td>\n",
       "      <td>1.0</td>\n",
       "      <td>10</td>\n",
       "    </tr>\n",
       "    <tr>\n",
       "      <th>230</th>\n",
       "      <td>student-accommodation-sydney-marsfield-2122-P1...</td>\n",
       "      <td>295</td>\n",
       "      <td>Marsfield</td>\n",
       "      <td>2023-01-01</td>\n",
       "      <td>Yes</td>\n",
       "      <td>5</td>\n",
       "      <td>5</td>\n",
       "      <td>4</td>\n",
       "      <td>Student accommodation</td>\n",
       "      <td>0.7</td>\n",
       "      <td>10</td>\n",
       "    </tr>\n",
       "    <tr>\n",
       "      <th>82</th>\n",
       "      <td>student-accommodation-sydney-frenchs-forest-20...</td>\n",
       "      <td>300</td>\n",
       "      <td>Frenchs Forest</td>\n",
       "      <td>2023-01-01</td>\n",
       "      <td>Yes</td>\n",
       "      <td>2</td>\n",
       "      <td>5</td>\n",
       "      <td>2</td>\n",
       "      <td>Student accommodation</td>\n",
       "      <td>0.7</td>\n",
       "      <td>10</td>\n",
       "    </tr>\n",
       "    <tr>\n",
       "      <th>225</th>\n",
       "      <td>student-accommodation-sydney-randwick-2031-P10...</td>\n",
       "      <td>327</td>\n",
       "      <td>Randwick</td>\n",
       "      <td>2023-01-01</td>\n",
       "      <td>Yes</td>\n",
       "      <td>6</td>\n",
       "      <td>6</td>\n",
       "      <td>2</td>\n",
       "      <td>Student accommodation</td>\n",
       "      <td>0.3</td>\n",
       "      <td>10</td>\n",
       "    </tr>\n",
       "    <tr>\n",
       "      <th>53</th>\n",
       "      <td>share-house-sydney-lane-cove-north-2066-P1237034</td>\n",
       "      <td>335</td>\n",
       "      <td>Lane Cove North</td>\n",
       "      <td>2023-01-01</td>\n",
       "      <td>Yes</td>\n",
       "      <td>3</td>\n",
       "      <td>3</td>\n",
       "      <td>2</td>\n",
       "      <td>Share house</td>\n",
       "      <td>0.5</td>\n",
       "      <td>10</td>\n",
       "    </tr>\n",
       "    <tr>\n",
       "      <th>223</th>\n",
       "      <td>student-accommodation-sydney-newtown-2042-P453555</td>\n",
       "      <td>362</td>\n",
       "      <td>Newtown</td>\n",
       "      <td>2023-01-01</td>\n",
       "      <td>Yes</td>\n",
       "      <td>5</td>\n",
       "      <td>5</td>\n",
       "      <td>2</td>\n",
       "      <td>Student accommodation</td>\n",
       "      <td>0.3</td>\n",
       "      <td>10</td>\n",
       "    </tr>\n",
       "    <tr>\n",
       "      <th>135</th>\n",
       "      <td>share-house-sydney-2000-P1279696</td>\n",
       "      <td>450</td>\n",
       "      <td>Sydney</td>\n",
       "      <td>2023-01-01</td>\n",
       "      <td>No</td>\n",
       "      <td>1</td>\n",
       "      <td>2</td>\n",
       "      <td>2</td>\n",
       "      <td>Share house</td>\n",
       "      <td>1.0</td>\n",
       "      <td>10</td>\n",
       "    </tr>\n",
       "  </tbody>\n",
       "</table>\n",
       "</div>"
      ],
      "text/plain": [
       "                                               prop_ID  rent_pw  \\\n",
       "227  student-accommodation-sydney-milperra-2214-P10...      187   \n",
       "229  student-accommodation-sydney-richmond-2753-P10...      187   \n",
       "224  student-accommodation-sydney-parramatta-2150-P...      245   \n",
       "155           share-house-sydney-yagoona-2199-P1279604      295   \n",
       "230  student-accommodation-sydney-marsfield-2122-P1...      295   \n",
       "82   student-accommodation-sydney-frenchs-forest-20...      300   \n",
       "225  student-accommodation-sydney-randwick-2031-P10...      327   \n",
       "53    share-house-sydney-lane-cove-north-2066-P1237034      335   \n",
       "223  student-accommodation-sydney-newtown-2042-P453555      362   \n",
       "135                   share-house-sydney-2000-P1279696      450   \n",
       "\n",
       "              suburb avail_date bills_inc  prop_pop  beds  baths  \\\n",
       "227         Milperra 2023-01-01       Yes         5     5      2   \n",
       "229         Richmond 2023-01-01       Yes         5     5      2   \n",
       "224       Parramatta 2023-01-01       Yes         6     6      2   \n",
       "155          Yagoona 2023-01-01       Yes         2     3      3   \n",
       "230        Marsfield 2023-01-01       Yes         5     5      4   \n",
       "82    Frenchs Forest 2023-01-01       Yes         2     5      2   \n",
       "225         Randwick 2023-01-01       Yes         6     6      2   \n",
       "53   Lane Cove North 2023-01-01       Yes         3     3      2   \n",
       "223          Newtown 2023-01-01       Yes         5     5      2   \n",
       "135           Sydney 2023-01-01        No         1     2      2   \n",
       "\n",
       "                 prop_type  bath_to_pop_ratio  days_to_avail  \n",
       "227  Student accommodation                0.3             10  \n",
       "229  Student accommodation                0.3             10  \n",
       "224  Student accommodation                0.3             10  \n",
       "155            Share house                1.0             10  \n",
       "230  Student accommodation                0.7             10  \n",
       "82   Student accommodation                0.7             10  \n",
       "225  Student accommodation                0.3             10  \n",
       "53             Share house                0.5             10  \n",
       "223  Student accommodation                0.3             10  \n",
       "135            Share house                1.0             10  "
      ]
     },
     "execution_count": 22,
     "metadata": {},
     "output_type": "execute_result"
    }
   ],
   "source": [
    "# Initializing empty column\n",
    "df[\"days_to_avail\"] = \"\"\n",
    "\n",
    "# Converting datetime.date into datetime64 data type\n",
    "today = pd.to_datetime(date.today())\n",
    "\n",
    "# Filling column with difference of dates\n",
    "df[\"days_to_avail\"] = (df[\"avail_date\"] - today)\n",
    "\n",
    "# Convertin column to string\n",
    "df[\"days_to_avail\"] = df[\"days_to_avail\"].astype(\"string\")\n",
    "\n",
    "# Splitting column strings to remove \" days\"\n",
    "days = df[\"days_to_avail\"].str.split(\" \", n=1,expand=True)\n",
    "\n",
    "# Replacing column values with numeric part\n",
    "df[\"days_to_avail\"] = days[0]\n",
    "\n",
    "# Converting column to numeric\n",
    "df[\"days_to_avail\"] = pd.to_numeric(df[\"days_to_avail\"])\n",
    "\n",
    "# Initializing the number of days\n",
    "days = 10\n",
    "\n",
    "# Selecting properties that are available in the next 10 days\n",
    "view = df.loc[(df[\"days_to_avail\"] == days)]\n",
    "view = view.sort_values(by=['rent_pw'])\n",
    "\n",
    "# Printing count of available properties\n",
    "print(f'{view[\"prop_ID\"].count()} properties available in {days} days \\n')\n",
    "\n",
    "print(\"Click on URLs given to below to view properties available in the next 10 days \\n\")\n",
    "\n",
    "for id in range(view['prop_ID'].count()):\n",
    "    url = url_creator(view[\"prop_ID\"].values[id])\n",
    "    print(f'\\t {id+1}. {url} \\n')\n",
    "\n",
    "view"
   ]
  },
  {
   "cell_type": "code",
   "execution_count": null,
   "metadata": {},
   "outputs": [],
   "source": []
  }
 ],
 "metadata": {
  "kernelspec": {
   "display_name": "base",
   "language": "python",
   "name": "python3"
  },
  "language_info": {
   "codemirror_mode": {
    "name": "ipython",
    "version": 3
   },
   "file_extension": ".py",
   "mimetype": "text/x-python",
   "name": "python",
   "nbconvert_exporter": "python",
   "pygments_lexer": "ipython3",
   "version": "3.8.3"
  },
  "orig_nbformat": 4,
  "vscode": {
   "interpreter": {
    "hash": "40d3a090f54c6569ab1632332b64b2c03c39dcf918b08424e98f38b5ae0af88f"
   }
  }
 },
 "nbformat": 4,
 "nbformat_minor": 2
}
