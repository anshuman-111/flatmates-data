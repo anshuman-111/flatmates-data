{
 "cells": [
  {
   "cell_type": "markdown",
   "metadata": {},
   "source": [
    "### Importing scraper and necessary libraries"
   ]
  },
  {
   "cell_type": "code",
   "execution_count": 20,
   "metadata": {},
   "outputs": [],
   "source": [
    "from scraper import listing_df\n",
    "import pandas as pd\n",
    "import matplotlib.pyplot as plt\n",
    "from datetime import date\n",
    "import seaborn as sns\n",
    "import webbrowser as wb"
   ]
  },
  {
   "cell_type": "markdown",
   "metadata": {},
   "source": [
    "### Initializing Dataframe "
   ]
  },
  {
   "cell_type": "code",
   "execution_count": 2,
   "metadata": {},
   "outputs": [],
   "source": [
    "df = listing_df"
   ]
  },
  {
   "cell_type": "markdown",
   "metadata": {},
   "source": [
    "### Checking and dropping NaN values if any"
   ]
  },
  {
   "cell_type": "code",
   "execution_count": 3,
   "metadata": {},
   "outputs": [
    {
     "name": "stdout",
     "output_type": "stream",
     "text": [
      "prop_ID       0\n",
      "rent_pw       0\n",
      "suburb        0\n",
      "avail_date    0\n",
      "bills_inc     0\n",
      "prop_pop      0\n",
      "beds          0\n",
      "baths         0\n",
      "dtype: int64\n"
     ]
    }
   ],
   "source": [
    "print(df.isna().sum())"
   ]
  },
  {
   "attachments": {},
   "cell_type": "markdown",
   "metadata": {},
   "source": [
    "### Describing dataset"
   ]
  },
  {
   "cell_type": "code",
   "execution_count": 4,
   "metadata": {},
   "outputs": [
    {
     "data": {
      "text/html": [
       "<div>\n",
       "<style scoped>\n",
       "    .dataframe tbody tr th:only-of-type {\n",
       "        vertical-align: middle;\n",
       "    }\n",
       "\n",
       "    .dataframe tbody tr th {\n",
       "        vertical-align: top;\n",
       "    }\n",
       "\n",
       "    .dataframe thead th {\n",
       "        text-align: right;\n",
       "    }\n",
       "</style>\n",
       "<table border=\"1\" class=\"dataframe\">\n",
       "  <thead>\n",
       "    <tr style=\"text-align: right;\">\n",
       "      <th></th>\n",
       "      <th>prop_ID</th>\n",
       "      <th>rent_pw</th>\n",
       "      <th>suburb</th>\n",
       "      <th>avail_date</th>\n",
       "      <th>bills_inc</th>\n",
       "      <th>prop_pop</th>\n",
       "      <th>beds</th>\n",
       "      <th>baths</th>\n",
       "    </tr>\n",
       "  </thead>\n",
       "  <tbody>\n",
       "    <tr>\n",
       "      <th>count</th>\n",
       "      <td>252</td>\n",
       "      <td>252</td>\n",
       "      <td>252</td>\n",
       "      <td>252</td>\n",
       "      <td>252</td>\n",
       "      <td>252</td>\n",
       "      <td>252</td>\n",
       "      <td>252</td>\n",
       "    </tr>\n",
       "    <tr>\n",
       "      <th>unique</th>\n",
       "      <td>252</td>\n",
       "      <td>69</td>\n",
       "      <td>143</td>\n",
       "      <td>38</td>\n",
       "      <td>2</td>\n",
       "      <td>8</td>\n",
       "      <td>6</td>\n",
       "      <td>4</td>\n",
       "    </tr>\n",
       "    <tr>\n",
       "      <th>top</th>\n",
       "      <td>share-house-sydney-glebe-2037-P1277333</td>\n",
       "      <td>350</td>\n",
       "      <td>Randwick</td>\n",
       "      <td>Available Now</td>\n",
       "      <td>Yes</td>\n",
       "      <td>2</td>\n",
       "      <td>3</td>\n",
       "      <td>2</td>\n",
       "    </tr>\n",
       "    <tr>\n",
       "      <th>freq</th>\n",
       "      <td>1</td>\n",
       "      <td>23</td>\n",
       "      <td>7</td>\n",
       "      <td>159</td>\n",
       "      <td>184</td>\n",
       "      <td>58</td>\n",
       "      <td>71</td>\n",
       "      <td>123</td>\n",
       "    </tr>\n",
       "  </tbody>\n",
       "</table>\n",
       "</div>"
      ],
      "text/plain": [
       "                                       prop_ID rent_pw    suburb  \\\n",
       "count                                      252     252       252   \n",
       "unique                                     252      69       143   \n",
       "top     share-house-sydney-glebe-2037-P1277333     350  Randwick   \n",
       "freq                                         1      23         7   \n",
       "\n",
       "           avail_date bills_inc prop_pop beds baths  \n",
       "count             252       252      252  252   252  \n",
       "unique             38         2        8    6     4  \n",
       "top     Available Now       Yes        2    3     2  \n",
       "freq              159       184       58   71   123  "
      ]
     },
     "execution_count": 4,
     "metadata": {},
     "output_type": "execute_result"
    }
   ],
   "source": [
    "df.describe()"
   ]
  },
  {
   "cell_type": "markdown",
   "metadata": {},
   "source": [
    "### Checking for duplicates"
   ]
  },
  {
   "cell_type": "code",
   "execution_count": 5,
   "metadata": {},
   "outputs": [
    {
     "name": "stdout",
     "output_type": "stream",
     "text": [
      "No duplicates found!\n"
     ]
    }
   ],
   "source": [
    "try:\n",
    "    print(pd.concat(x for _, x in df.groupby(\"prop_ID\") if len(x) > 1))\n",
    "except ValueError as err:\n",
    "    print(\"No duplicates found!\")"
   ]
  },
  {
   "cell_type": "markdown",
   "metadata": {},
   "source": [
    "### Removing duplicates if any"
   ]
  },
  {
   "cell_type": "code",
   "execution_count": 6,
   "metadata": {},
   "outputs": [],
   "source": [
    "df.drop_duplicates(inplace=True)"
   ]
  },
  {
   "cell_type": "markdown",
   "metadata": {},
   "source": [
    "### Formatting columns to relevant types"
   ]
  },
  {
   "cell_type": "code",
   "execution_count": 7,
   "metadata": {},
   "outputs": [],
   "source": [
    " # Removing commas from the rent column\n",
    "df[\"rent_pw\"] = df[\"rent_pw\"].replace(\",\",\"\",regex=True)\n",
    "\n",
    "# Converting beds, baths, rent_pw, prop_pop columns to int\n",
    "df[[\"prop_pop\",\"beds\",\"baths\",\"rent_pw\"]] = df[[\"prop_pop\",\"beds\",\"baths\",\"rent_pw\"]].apply(pd.to_numeric)\n",
    "\n",
    "# Removing \"Available \" from avail_date column\n",
    "df[\"avail_date\"] = df[\"avail_date\"].replace(\"Available \",\"\",regex=True)\n",
    "\n",
    "# Replacing \"Now\" with today's date\n",
    "df.loc[(df[\"avail_date\"]==\"Now\"), \"avail_date\"] = date.today()\n",
    "\n",
    "# Converting avail_date column to datetime data type\n",
    "df[\"avail_date\"] = pd.to_datetime(df[\"avail_date\"]) "
   ]
  },
  {
   "cell_type": "markdown",
   "metadata": {},
   "source": [
    "### Getting property type from the `prop_ID` column"
   ]
  },
  {
   "cell_type": "code",
   "execution_count": 8,
   "metadata": {},
   "outputs": [],
   "source": [
    "# Initializing a property type column from the prop_ID column\n",
    "prop_type = df[\"prop_ID\"].str.split(\"-sydney\", n=1, expand=True)\n",
    "\n",
    "# Setting prop_type column first array element (first split)\n",
    "df[\"prop_type\"] = prop_type[0]\n",
    "\n",
    "# Replacing \"-\" with spaces to clean up column\n",
    "df[\"prop_type\"] = df[\"prop_type\"].replace(\"-\",\" \",regex=True)\n",
    "\n",
    "# Capitalizing column values\n",
    "df[\"prop_type\"] = df[\"prop_type\"].str.capitalize()"
   ]
  },
  {
   "cell_type": "markdown",
   "metadata": {},
   "source": [
    "### Describing dataset after converting columns to relevant data types"
   ]
  },
  {
   "cell_type": "code",
   "execution_count": 9,
   "metadata": {},
   "outputs": [
    {
     "data": {
      "text/html": [
       "<div>\n",
       "<style scoped>\n",
       "    .dataframe tbody tr th:only-of-type {\n",
       "        vertical-align: middle;\n",
       "    }\n",
       "\n",
       "    .dataframe tbody tr th {\n",
       "        vertical-align: top;\n",
       "    }\n",
       "\n",
       "    .dataframe thead th {\n",
       "        text-align: right;\n",
       "    }\n",
       "</style>\n",
       "<table border=\"1\" class=\"dataframe\">\n",
       "  <thead>\n",
       "    <tr style=\"text-align: right;\">\n",
       "      <th></th>\n",
       "      <th>rent_pw</th>\n",
       "      <th>prop_pop</th>\n",
       "      <th>beds</th>\n",
       "      <th>baths</th>\n",
       "    </tr>\n",
       "  </thead>\n",
       "  <tbody>\n",
       "    <tr>\n",
       "      <th>count</th>\n",
       "      <td>252.000000</td>\n",
       "      <td>252.000000</td>\n",
       "      <td>252.000000</td>\n",
       "      <td>252.000000</td>\n",
       "    </tr>\n",
       "    <tr>\n",
       "      <th>mean</th>\n",
       "      <td>388.599206</td>\n",
       "      <td>2.674603</td>\n",
       "      <td>3.257937</td>\n",
       "      <td>2.059524</td>\n",
       "    </tr>\n",
       "    <tr>\n",
       "      <th>std</th>\n",
       "      <td>526.731236</td>\n",
       "      <td>1.768829</td>\n",
       "      <td>1.408899</td>\n",
       "      <td>0.851778</td>\n",
       "    </tr>\n",
       "    <tr>\n",
       "      <th>min</th>\n",
       "      <td>70.000000</td>\n",
       "      <td>0.000000</td>\n",
       "      <td>1.000000</td>\n",
       "      <td>1.000000</td>\n",
       "    </tr>\n",
       "    <tr>\n",
       "      <th>25%</th>\n",
       "      <td>260.000000</td>\n",
       "      <td>1.000000</td>\n",
       "      <td>2.000000</td>\n",
       "      <td>1.000000</td>\n",
       "    </tr>\n",
       "    <tr>\n",
       "      <th>50%</th>\n",
       "      <td>320.000000</td>\n",
       "      <td>2.000000</td>\n",
       "      <td>3.000000</td>\n",
       "      <td>2.000000</td>\n",
       "    </tr>\n",
       "    <tr>\n",
       "      <th>75%</th>\n",
       "      <td>410.000000</td>\n",
       "      <td>4.000000</td>\n",
       "      <td>4.000000</td>\n",
       "      <td>2.250000</td>\n",
       "    </tr>\n",
       "    <tr>\n",
       "      <th>max</th>\n",
       "      <td>8000.000000</td>\n",
       "      <td>7.000000</td>\n",
       "      <td>6.000000</td>\n",
       "      <td>4.000000</td>\n",
       "    </tr>\n",
       "  </tbody>\n",
       "</table>\n",
       "</div>"
      ],
      "text/plain": [
       "           rent_pw    prop_pop        beds       baths\n",
       "count   252.000000  252.000000  252.000000  252.000000\n",
       "mean    388.599206    2.674603    3.257937    2.059524\n",
       "std     526.731236    1.768829    1.408899    0.851778\n",
       "min      70.000000    0.000000    1.000000    1.000000\n",
       "25%     260.000000    1.000000    2.000000    1.000000\n",
       "50%     320.000000    2.000000    3.000000    2.000000\n",
       "75%     410.000000    4.000000    4.000000    2.250000\n",
       "max    8000.000000    7.000000    6.000000    4.000000"
      ]
     },
     "execution_count": 9,
     "metadata": {},
     "output_type": "execute_result"
    }
   ],
   "source": [
    "df.describe()"
   ]
  },
  {
   "cell_type": "code",
   "execution_count": 28,
   "metadata": {},
   "outputs": [],
   "source": [
    "def url_creator(id):\n",
    "    return f'https://flatmates.com.au/{id}'\n"
   ]
  },
  {
   "attachments": {},
   "cell_type": "markdown",
   "metadata": {},
   "source": [
    "## Checking distribution of rent values"
   ]
  },
  {
   "cell_type": "code",
   "execution_count": 10,
   "metadata": {},
   "outputs": [
    {
     "data": {
      "image/png": "[encoded data removed]",
      "text/plain": [
       "<Figure size 720x360 with 1 Axes>"
      ]
     },
     "metadata": {},
     "output_type": "display_data"
    }
   ],
   "source": [
    "# Plotting frequency histogram to check distribution of rent values\n",
    "sns.set(rc={\"figure.figsize\":(10,5)})\n",
    "plt.hist(df[\"rent_pw\"],color=\"salmon\",edgecolor=\"blue\")\n",
    "\n",
    "plt.title(\"Distribution of rent values\")\n",
    "plt.xlabel(\"Rent\")\n",
    "plt.ylabel(\"Frequency\")\n",
    "plt.show()"
   ]
  },
  {
   "cell_type": "markdown",
   "metadata": {},
   "source": [
    "### Heatmap to look for patterns"
   ]
  },
  {
   "cell_type": "code",
   "execution_count": 11,
   "metadata": {},
   "outputs": [
    {
     "data": {
      "image/png": "[encoded data removed]",
      "text/plain": [
       "<Figure size 720x360 with 2 Axes>"
      ]
     },
     "metadata": {},
     "output_type": "display_data"
    }
   ],
   "source": [
    "# Creating a view with only numerical values\n",
    "numerical_data = df[[\"prop_pop\",\"beds\",\"baths\",\"rent_pw\"]]\n",
    "\n",
    "# creating a heatmap of correlation amongst values\n",
    "sns.set(rc={\"figure.figsize\":(10,5)}) \n",
    "sns.heatmap(numerical_data.corr(),annot=True)\n",
    "\n",
    "plt.title(\"Correlation matrix\")\n",
    "plt.show()"
   ]
  },
  {
   "attachments": {},
   "cell_type": "markdown",
   "metadata": {},
   "source": [
    "##### Negative correlation amongst rent, beds and bathrooms indicates that rent does not necessarily increase with respect to number of beds and baths."
   ]
  },
  {
   "cell_type": "markdown",
   "metadata": {},
   "source": [
    "### Checking rent values"
   ]
  },
  {
   "cell_type": "code",
   "execution_count": 12,
   "metadata": {},
   "outputs": [
    {
     "data": {
      "image/png": "[encoded data removed]",
      "text/plain": [
       "<Figure size 1008x504 with 1 Axes>"
      ]
     },
     "metadata": {},
     "output_type": "display_data"
    }
   ],
   "source": [
    "# Checking for more outliers by creating boxplots\n",
    "sns.set(rc={\"figure.figsize\":(14,7)})\n",
    "sns.boxplot(df['prop_type'], df[\"rent_pw\"])\n",
    "plt.xlabel(\"Property Type\")\n",
    "plt.ylabel(\"Rent\")\n",
    "plt.title(\"Rent per Property Type\")\n",
    "plt.show()"
   ]
  },
  {
   "cell_type": "markdown",
   "metadata": {},
   "source": [
    "### Finding the minimum rent with bills included"
   ]
  },
  {
   "cell_type": "code",
   "execution_count": 34,
   "metadata": {},
   "outputs": [
    {
     "name": "stdout",
     "output_type": "stream",
     "text": [
      "Clikc URL to view the property with the lowest rent where bills are included : \n",
      " \thttps://flatmates.com.au/share-house-sydney-penrith-2750-P1133933\n"
     ]
    }
   ],
   "source": [
    "# Creating views where bills are included in rent\n",
    "view = df.loc[(df[\"bills_inc\"] == \"Yes\")]\n",
    "\n",
    "# Getting rows with minimum rent where bills are included\n",
    "result = view.loc[(view[\"rent_pw\"] == view[\"rent_pw\"].min())]\n",
    "\n",
    "# Getting url for the property \n",
    "url = url_creator(result['prop_ID'].values[0])\n",
    "print(f\"Clikc URL to view the property with the lowest rent where bills are included : \\n \\t{url}\")"
   ]
  },
  {
   "cell_type": "markdown",
   "metadata": {},
   "source": [
    "### Finding minimum rent where share houses have 1 bathroom per 2 people"
   ]
  },
  {
   "cell_type": "markdown",
   "metadata": {},
   "source": [
    "Property population was increased by 1 to simulate the number of bathrooms available per person after one more person moves into the property. "
   ]
  },
  {
   "cell_type": "code",
   "execution_count": 33,
   "metadata": {},
   "outputs": [
    {
     "name": "stdout",
     "output_type": "stream",
     "text": [
      "Click URL to view the property with the lowest rent where share houses have 1 bathroom per 2 people : \n",
      " \thttps://flatmates.com.au/share-house-sydney-penrith-2750-P1133933\n"
     ]
    }
   ],
   "source": [
    "# Creating bath-to-pop ratio column (rounded to one decimal)\n",
    "df[\"bath_to_pop_ratio\"] = (df[\"baths\"]/(df[\"prop_pop\"]+1)).round(1)\n",
    "\n",
    "# Getting share houses where there are atleast 1 bathroom per 2 bedrooms\n",
    "view = df.loc[(df[\"bath_to_pop_ratio\"] >= 0.5) & (df[\"prop_type\"] == \"Share house\")]\n",
    "\n",
    "# getting minimum rent where there are atleast 1 bathroom per 2 bedrooms\n",
    "result = view.loc[(view[\"rent_pw\"] == view[\"rent_pw\"].min())]\n",
    "\n",
    "url = url_creator(result['prop_ID'].values[0])\n",
    "print(f\"Click URL to view the property with the lowest rent where share houses have 1 bathroom per 2 people : \\n \\t{url}\")"
   ]
  },
  {
   "cell_type": "markdown",
   "metadata": {},
   "source": [
    "### Share houses with a population between 1 and 3"
   ]
  },
  {
   "cell_type": "code",
   "execution_count": 35,
   "metadata": {},
   "outputs": [
    {
     "name": "stdout",
     "output_type": "stream",
     "text": [
      "Click URL to view the property with the lowest rent where share houses between 1 and 3 people: \n",
      " \thttps://flatmates.com.au/share-house-sydney-penrith-2750-P1133933\n"
     ]
    }
   ],
   "source": [
    "# Creating views to get share houses with a population in range 1 - 3 (inclusive)\n",
    "view = df.loc[(df[\"prop_pop\"] >= 1) & (df[\"prop_pop\"] <= 3) & (df[\"prop_type\"] == \"Share house\")]\n",
    "result = view.loc[(view[\"rent_pw\"] == view[\"rent_pw\"].min())]\n",
    "\n",
    "url = url_creator(result['prop_ID'].values[0])\n",
    "print(f\"Click URL to view the property with the lowest rent where share houses between 1 and 3 people: \\n \\t{url}\")"
   ]
  },
  {
   "attachments": {},
   "cell_type": "markdown",
   "metadata": {},
   "source": [
    "### Median rent by property type"
   ]
  },
  {
   "cell_type": "code",
   "execution_count": 37,
   "metadata": {},
   "outputs": [
    {
     "data": {
      "text/html": [
       "<div>\n",
       "<style scoped>\n",
       "    .dataframe tbody tr th:only-of-type {\n",
       "        vertical-align: middle;\n",
       "    }\n",
       "\n",
       "    .dataframe tbody tr th {\n",
       "        vertical-align: top;\n",
       "    }\n",
       "\n",
       "    .dataframe thead th {\n",
       "        text-align: right;\n",
       "    }\n",
       "</style>\n",
       "<table border=\"1\" class=\"dataframe\">\n",
       "  <thead>\n",
       "    <tr style=\"text-align: right;\">\n",
       "      <th></th>\n",
       "      <th>Prop_type</th>\n",
       "      <th>Median Rent</th>\n",
       "    </tr>\n",
       "  </thead>\n",
       "  <tbody>\n",
       "    <tr>\n",
       "      <th>0</th>\n",
       "      <td>1 bed</td>\n",
       "      <td>510.0</td>\n",
       "    </tr>\n",
       "    <tr>\n",
       "      <th>1</th>\n",
       "      <td>Granny flat</td>\n",
       "      <td>380.0</td>\n",
       "    </tr>\n",
       "    <tr>\n",
       "      <th>2</th>\n",
       "      <td>Homestay</td>\n",
       "      <td>285.0</td>\n",
       "    </tr>\n",
       "    <tr>\n",
       "      <th>3</th>\n",
       "      <td>Share house</td>\n",
       "      <td>315.0</td>\n",
       "    </tr>\n",
       "    <tr>\n",
       "      <th>4</th>\n",
       "      <td>Student accommodation</td>\n",
       "      <td>300.0</td>\n",
       "    </tr>\n",
       "    <tr>\n",
       "      <th>5</th>\n",
       "      <td>Studio</td>\n",
       "      <td>450.0</td>\n",
       "    </tr>\n",
       "    <tr>\n",
       "      <th>6</th>\n",
       "      <td>Whole property</td>\n",
       "      <td>710.0</td>\n",
       "    </tr>\n",
       "  </tbody>\n",
       "</table>\n",
       "</div>"
      ],
      "text/plain": [
       "               Prop_type  Median Rent\n",
       "0                  1 bed        510.0\n",
       "1            Granny flat        380.0\n",
       "2               Homestay        285.0\n",
       "3            Share house        315.0\n",
       "4  Student accommodation        300.0\n",
       "5                 Studio        450.0\n",
       "6         Whole property        710.0"
      ]
     },
     "execution_count": 37,
     "metadata": {},
     "output_type": "execute_result"
    }
   ],
   "source": [
    "med_rent_per_prop = df.groupby([\"prop_type\"], as_index=False).median()\n",
    "med_rent_per_prop = med_rent_per_prop[[\"prop_type\",\"rent_pw\"]]\n",
    "med_rent_per_prop.columns = [\"Prop_type\",\"Median Rent\"]\n",
    "med_rent_per_prop"
   ]
  },
  {
   "cell_type": "code",
   "execution_count": 39,
   "metadata": {},
   "outputs": [
    {
     "data": {
      "image/png": "[encoded data removed]",
      "text/plain": [
       "<Figure size 720x360 with 1 Axes>"
      ]
     },
     "metadata": {},
     "output_type": "display_data"
    }
   ],
   "source": [
    "sns.set(rc={\"figure.figsize\":(10,5)})\n",
    "palette = sns.color_palette(\"Reds_d\", len(med_rent_per_prop)+6)\n",
    "fig = sns.barplot(x=med_rent_per_prop['Prop_type'],y=med_rent_per_prop[\"Median Rent\"],palette=palette)\n",
    "fig.set_xticklabels(fig.get_xticklabels(),fontsize=10, rotation =30, ha=\"right\")\n",
    "plt.title(\"Median Rent per property type\")\n",
    "\n",
    "plt.ylabel(\"Median rent\")\n",
    "plt.show() "
   ]
  },
  {
   "cell_type": "markdown",
   "metadata": {},
   "source": [
    "### Properties available in the next 10 days"
   ]
  },
  {
   "cell_type": "code",
   "execution_count": 48,
   "metadata": {},
   "outputs": [
    {
     "name": "stdout",
     "output_type": "stream",
     "text": [
      "11 properties available in 10 days \n",
      "\n",
      "Click on URLs given to below to view properties available in the next 10 days \n",
      "\n",
      "\t 1. https://flatmates.com.au/share-house-sydney-lane-cove-north-2066-P1237034 \n",
      "\n",
      "\t 2. https://flatmates.com.au/student-accommodation-sydney-frenchs-forest-2086-P1279753 \n",
      "\n",
      "\t 3. https://flatmates.com.au/share-house-sydney-2000-P1279696 \n",
      "\n",
      "\t 4. https://flatmates.com.au/share-house-sydney-yagoona-2199-P1279604 \n",
      "\n",
      "\t 5. https://flatmates.com.au/student-accommodation-sydney-newtown-2042-P453555 \n",
      "\n",
      "\t 6. https://flatmates.com.au/student-accommodation-sydney-parramatta-2150-P1077348 \n",
      "\n",
      "\t 7. https://flatmates.com.au/student-accommodation-sydney-randwick-2031-P1077243 \n",
      "\n",
      "\t 8. https://flatmates.com.au/student-accommodation-sydney-milperra-2214-P1079356 \n",
      "\n",
      "\t 9. https://flatmates.com.au/student-accommodation-sydney-richmond-2753-P1079342 \n",
      "\n",
      "\t 10. https://flatmates.com.au/student-accommodation-sydney-marsfield-2122-P1077300 \n",
      "\n",
      "\t 11. https://flatmates.com.au/share-house-sydney-marsfield-2122-P797980 \n",
      "\n"
     ]
    }
   ],
   "source": [
    "# Initializing empty column\n",
    "df[\"days_to_avail\"] = \"\"\n",
    "\n",
    "# Converting datetime.date into datetime64 data type\n",
    "today = pd.to_datetime(date.today())\n",
    "\n",
    "# Filling column with difference of dates\n",
    "df[\"days_to_avail\"] = (df[\"avail_date\"] - today)\n",
    "\n",
    "# Convertin column to string\n",
    "df[\"days_to_avail\"] = df[\"days_to_avail\"].astype(\"string\")\n",
    "\n",
    "# Splitting column strings to remove \" days\"\n",
    "days = df[\"days_to_avail\"].str.split(\" \", n=1,expand=True)\n",
    "\n",
    "# Replacing column values with numeric part\n",
    "df[\"days_to_avail\"] = days[0]\n",
    "\n",
    "# Converting column to numeric\n",
    "df[\"days_to_avail\"] = pd.to_numeric(df[\"days_to_avail\"])\n",
    "\n",
    "# Initializing the number of days\n",
    "days = 10\n",
    "\n",
    "# Selecting properties that are available in the next 10 days\n",
    "view = df.loc[(df[\"days_to_avail\"] == days)]\n",
    "\n",
    "# Printing count of available properties\n",
    "print(f'{view[\"prop_ID\"].count()} properties available in {days} days \\n')\n",
    "\n",
    "print(\"Click on URLs given to below to view properties available in the next 10 days \\n\")\n",
    "\n",
    "for id in range(view['prop_ID'].count()):\n",
    "    url = url_creator(view[\"prop_ID\"].values[id])\n",
    "    print(f'\\t {id+1}. {url} \\n')"
   ]
  },
  {
   "cell_type": "code",
   "execution_count": null,
   "metadata": {},
   "outputs": [],
   "source": []
  }
 ],
 "metadata": {
  "kernelspec": {
   "display_name": "base",
   "language": "python",
   "name": "python3"
  },
  "language_info": {
   "codemirror_mode": {
    "name": "ipython",
    "version": 3
   },
   "file_extension": ".py",
   "mimetype": "text/x-python",
   "name": "python",
   "nbconvert_exporter": "python",
   "pygments_lexer": "ipython3",
   "version": "3.8.3"
  },
  "orig_nbformat": 4,
  "vscode": {
   "interpreter": {
    "hash": "40d3a090f54c6569ab1632332b64b2c03c39dcf918b08424e98f38b5ae0af88f"
   }
  }
 },
 "nbformat": 4,
 "nbformat_minor": 2
}
