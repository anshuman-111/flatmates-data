{
 "cells": [
  {
   "cell_type": "markdown",
   "metadata": {},
   "source": [
    "### Importing scraper and necessary libraries"
   ]
  },
  {
   "cell_type": "code",
   "execution_count": 1,
   "metadata": {},
   "outputs": [],
   "source": [
    "from scraper import listing_df\n",
    "import pandas as pd\n",
    "import matplotlib.pyplot as plt\n",
    "from datetime import date\n",
    "import seaborn as sns"
   ]
  },
  {
   "cell_type": "markdown",
   "metadata": {},
   "source": [
    "### Initializing Dataframe "
   ]
  },
  {
   "cell_type": "code",
   "execution_count": 2,
   "metadata": {},
   "outputs": [],
   "source": [
    "df = listing_df"
   ]
  },
  {
   "cell_type": "markdown",
   "metadata": {},
   "source": [
    "### Checking and dropping NaN values if any"
   ]
  },
  {
   "cell_type": "code",
   "execution_count": 3,
   "metadata": {},
   "outputs": [
    {
     "name": "stdout",
     "output_type": "stream",
     "text": [
      "prop_ID       0\n",
      "rent_pw       0\n",
      "suburb        0\n",
      "avail_date    0\n",
      "bills_inc     0\n",
      "prop_pop      0\n",
      "beds          0\n",
      "baths         0\n",
      "dtype: int64\n"
     ]
    }
   ],
   "source": [
    "print(df.isna().sum())"
   ]
  },
  {
   "cell_type": "markdown",
   "metadata": {},
   "source": [
    "### Exploring dataset"
   ]
  },
  {
   "cell_type": "code",
   "execution_count": 4,
   "metadata": {},
   "outputs": [
    {
     "data": {
      "text/html": [
       "<div>\n",
       "<style scoped>\n",
       "    .dataframe tbody tr th:only-of-type {\n",
       "        vertical-align: middle;\n",
       "    }\n",
       "\n",
       "    .dataframe tbody tr th {\n",
       "        vertical-align: top;\n",
       "    }\n",
       "\n",
       "    .dataframe thead th {\n",
       "        text-align: right;\n",
       "    }\n",
       "</style>\n",
       "<table border=\"1\" class=\"dataframe\">\n",
       "  <thead>\n",
       "    <tr style=\"text-align: right;\">\n",
       "      <th></th>\n",
       "      <th>prop_ID</th>\n",
       "      <th>rent_pw</th>\n",
       "      <th>suburb</th>\n",
       "      <th>avail_date</th>\n",
       "      <th>bills_inc</th>\n",
       "      <th>prop_pop</th>\n",
       "      <th>beds</th>\n",
       "      <th>baths</th>\n",
       "    </tr>\n",
       "  </thead>\n",
       "  <tbody>\n",
       "    <tr>\n",
       "      <th>count</th>\n",
       "      <td>252</td>\n",
       "      <td>252</td>\n",
       "      <td>252</td>\n",
       "      <td>252</td>\n",
       "      <td>252</td>\n",
       "      <td>252</td>\n",
       "      <td>252</td>\n",
       "      <td>252</td>\n",
       "    </tr>\n",
       "    <tr>\n",
       "      <th>unique</th>\n",
       "      <td>252</td>\n",
       "      <td>71</td>\n",
       "      <td>142</td>\n",
       "      <td>33</td>\n",
       "      <td>2</td>\n",
       "      <td>8</td>\n",
       "      <td>6</td>\n",
       "      <td>4</td>\n",
       "    </tr>\n",
       "    <tr>\n",
       "      <th>top</th>\n",
       "      <td>share-house-sydney-kingswood-2747-P1264952</td>\n",
       "      <td>350</td>\n",
       "      <td>Surry Hills</td>\n",
       "      <td>Available Now</td>\n",
       "      <td>Yes</td>\n",
       "      <td>2</td>\n",
       "      <td>2</td>\n",
       "      <td>2</td>\n",
       "    </tr>\n",
       "    <tr>\n",
       "      <th>freq</th>\n",
       "      <td>1</td>\n",
       "      <td>22</td>\n",
       "      <td>6</td>\n",
       "      <td>173</td>\n",
       "      <td>178</td>\n",
       "      <td>63</td>\n",
       "      <td>82</td>\n",
       "      <td>119</td>\n",
       "    </tr>\n",
       "  </tbody>\n",
       "</table>\n",
       "</div>"
      ],
      "text/plain": [
       "                                           prop_ID rent_pw       suburb  \\\n",
       "count                                          252     252          252   \n",
       "unique                                         252      71          142   \n",
       "top     share-house-sydney-kingswood-2747-P1264952     350  Surry Hills   \n",
       "freq                                             1      22            6   \n",
       "\n",
       "           avail_date bills_inc prop_pop beds baths  \n",
       "count             252       252      252  252   252  \n",
       "unique             33         2        8    6     4  \n",
       "top     Available Now       Yes        2    2     2  \n",
       "freq              173       178       63   82   119  "
      ]
     },
     "execution_count": 4,
     "metadata": {},
     "output_type": "execute_result"
    }
   ],
   "source": [
    "df.describe()"
   ]
  },
  {
   "cell_type": "markdown",
   "metadata": {},
   "source": [
    "### Checking for duplicates"
   ]
  },
  {
   "cell_type": "code",
   "execution_count": 5,
   "metadata": {},
   "outputs": [
    {
     "name": "stdout",
     "output_type": "stream",
     "text": [
      "No duplicates found!\n"
     ]
    }
   ],
   "source": [
    "try:\n",
    "    print(pd.concat(x for _, x in df.groupby(\"prop_ID\") if len(x) > 1))\n",
    "except ValueError as err:\n",
    "    print(\"No duplicates found!\")"
   ]
  },
  {
   "cell_type": "markdown",
   "metadata": {},
   "source": [
    "### Removing duplicates if any"
   ]
  },
  {
   "cell_type": "code",
   "execution_count": 6,
   "metadata": {},
   "outputs": [],
   "source": [
    "df.drop_duplicates(inplace=True)"
   ]
  },
  {
   "cell_type": "markdown",
   "metadata": {},
   "source": [
    "### Formatting columns to relevant types"
   ]
  },
  {
   "cell_type": "code",
   "execution_count": 7,
   "metadata": {},
   "outputs": [],
   "source": [
    " # Removing commas from the rent column\n",
    "df[\"rent_pw\"] = df[\"rent_pw\"].replace(\",\",\"\",regex=True)\n",
    "\n",
    "# Converting beds, baths, rent_pw, prop_pop columns to int\n",
    "df[[\"prop_pop\",\"beds\",\"baths\",\"rent_pw\"]] = df[[\"prop_pop\",\"beds\",\"baths\",\"rent_pw\"]].apply(pd.to_numeric)\n",
    "\n",
    "# Removing \"Available \" from avail_date column\n",
    "df[\"avail_date\"] = df[\"avail_date\"].replace(\"Available \",\"\",regex=True)\n",
    "\n",
    "# Replacing \"Now\" with today's date\n",
    "df.loc[(df[\"avail_date\"]==\"Now\"), \"avail_date\"] = date.today()\n",
    "\n",
    "# Converting avail_date column to datetime data type\n",
    "df[\"avail_date\"] = pd.to_datetime(df[\"avail_date\"]) "
   ]
  },
  {
   "cell_type": "code",
   "execution_count": 8,
   "metadata": {},
   "outputs": [
    {
     "data": {
      "text/html": [
       "<div>\n",
       "<style scoped>\n",
       "    .dataframe tbody tr th:only-of-type {\n",
       "        vertical-align: middle;\n",
       "    }\n",
       "\n",
       "    .dataframe tbody tr th {\n",
       "        vertical-align: top;\n",
       "    }\n",
       "\n",
       "    .dataframe thead th {\n",
       "        text-align: right;\n",
       "    }\n",
       "</style>\n",
       "<table border=\"1\" class=\"dataframe\">\n",
       "  <thead>\n",
       "    <tr style=\"text-align: right;\">\n",
       "      <th></th>\n",
       "      <th>prop_ID</th>\n",
       "      <th>rent_pw</th>\n",
       "      <th>suburb</th>\n",
       "      <th>avail_date</th>\n",
       "      <th>bills_inc</th>\n",
       "      <th>prop_pop</th>\n",
       "      <th>beds</th>\n",
       "      <th>baths</th>\n",
       "    </tr>\n",
       "  </thead>\n",
       "  <tbody>\n",
       "    <tr>\n",
       "      <th>0</th>\n",
       "      <td>share-house-sydney-sydney-olympic-park-2127-P1...</td>\n",
       "      <td>550</td>\n",
       "      <td>Sydney Olympic Park</td>\n",
       "      <td>2022-12-21</td>\n",
       "      <td>Yes</td>\n",
       "      <td>3</td>\n",
       "      <td>3</td>\n",
       "      <td>2</td>\n",
       "    </tr>\n",
       "    <tr>\n",
       "      <th>1</th>\n",
       "      <td>share-house-sydney-sydney-olympic-park-2127-P1...</td>\n",
       "      <td>450</td>\n",
       "      <td>Sydney Olympic Park</td>\n",
       "      <td>2022-12-21</td>\n",
       "      <td>Yes</td>\n",
       "      <td>3</td>\n",
       "      <td>3</td>\n",
       "      <td>2</td>\n",
       "    </tr>\n",
       "    <tr>\n",
       "      <th>2</th>\n",
       "      <td>share-house-sydney-forest-lodge-2037-P1134072</td>\n",
       "      <td>300</td>\n",
       "      <td>Forest Lodge</td>\n",
       "      <td>2022-12-25</td>\n",
       "      <td>Yes</td>\n",
       "      <td>7</td>\n",
       "      <td>6</td>\n",
       "      <td>4</td>\n",
       "    </tr>\n",
       "    <tr>\n",
       "      <th>3</th>\n",
       "      <td>share-house-sydney-surry-hills-2010-P525785</td>\n",
       "      <td>300</td>\n",
       "      <td>Surry Hills</td>\n",
       "      <td>2022-12-25</td>\n",
       "      <td>Yes</td>\n",
       "      <td>7</td>\n",
       "      <td>6</td>\n",
       "      <td>4</td>\n",
       "    </tr>\n",
       "    <tr>\n",
       "      <th>4</th>\n",
       "      <td>studio-sydney-darlinghurst-2010-P1279699</td>\n",
       "      <td>500</td>\n",
       "      <td>Darlinghurst</td>\n",
       "      <td>2022-12-21</td>\n",
       "      <td>Yes</td>\n",
       "      <td>0</td>\n",
       "      <td>1</td>\n",
       "      <td>1</td>\n",
       "    </tr>\n",
       "    <tr>\n",
       "      <th>5</th>\n",
       "      <td>whole-property-sydney-north-ryde-2113-P1092185</td>\n",
       "      <td>400</td>\n",
       "      <td>North Ryde</td>\n",
       "      <td>2022-12-21</td>\n",
       "      <td>Yes</td>\n",
       "      <td>0</td>\n",
       "      <td>3</td>\n",
       "      <td>3</td>\n",
       "    </tr>\n",
       "    <tr>\n",
       "      <th>6</th>\n",
       "      <td>share-house-sydney-waterloo-2017-P1272271</td>\n",
       "      <td>450</td>\n",
       "      <td>Waterloo</td>\n",
       "      <td>2022-12-21</td>\n",
       "      <td>Yes</td>\n",
       "      <td>1</td>\n",
       "      <td>2</td>\n",
       "      <td>2</td>\n",
       "    </tr>\n",
       "    <tr>\n",
       "      <th>7</th>\n",
       "      <td>share-house-sydney-darlinghurst-2010-P1226177</td>\n",
       "      <td>375</td>\n",
       "      <td>Darlinghurst</td>\n",
       "      <td>2022-12-21</td>\n",
       "      <td>Yes</td>\n",
       "      <td>4</td>\n",
       "      <td>5</td>\n",
       "      <td>2</td>\n",
       "    </tr>\n",
       "    <tr>\n",
       "      <th>8</th>\n",
       "      <td>share-house-sydney-kingsford-2032-P1157059</td>\n",
       "      <td>340</td>\n",
       "      <td>Kingsford</td>\n",
       "      <td>2023-01-03</td>\n",
       "      <td>Yes</td>\n",
       "      <td>6</td>\n",
       "      <td>6</td>\n",
       "      <td>3</td>\n",
       "    </tr>\n",
       "    <tr>\n",
       "      <th>9</th>\n",
       "      <td>share-house-sydney-petersham-2049-P1231915</td>\n",
       "      <td>475</td>\n",
       "      <td>Petersham</td>\n",
       "      <td>2023-01-08</td>\n",
       "      <td>Yes</td>\n",
       "      <td>6</td>\n",
       "      <td>6</td>\n",
       "      <td>4</td>\n",
       "    </tr>\n",
       "  </tbody>\n",
       "</table>\n",
       "</div>"
      ],
      "text/plain": [
       "                                             prop_ID  rent_pw  \\\n",
       "0  share-house-sydney-sydney-olympic-park-2127-P1...      550   \n",
       "1  share-house-sydney-sydney-olympic-park-2127-P1...      450   \n",
       "2      share-house-sydney-forest-lodge-2037-P1134072      300   \n",
       "3        share-house-sydney-surry-hills-2010-P525785      300   \n",
       "4           studio-sydney-darlinghurst-2010-P1279699      500   \n",
       "5     whole-property-sydney-north-ryde-2113-P1092185      400   \n",
       "6          share-house-sydney-waterloo-2017-P1272271      450   \n",
       "7      share-house-sydney-darlinghurst-2010-P1226177      375   \n",
       "8         share-house-sydney-kingsford-2032-P1157059      340   \n",
       "9         share-house-sydney-petersham-2049-P1231915      475   \n",
       "\n",
       "                suburb avail_date bills_inc  prop_pop  beds  baths  \n",
       "0  Sydney Olympic Park 2022-12-21       Yes         3     3      2  \n",
       "1  Sydney Olympic Park 2022-12-21       Yes         3     3      2  \n",
       "2         Forest Lodge 2022-12-25       Yes         7     6      4  \n",
       "3          Surry Hills 2022-12-25       Yes         7     6      4  \n",
       "4         Darlinghurst 2022-12-21       Yes         0     1      1  \n",
       "5           North Ryde 2022-12-21       Yes         0     3      3  \n",
       "6             Waterloo 2022-12-21       Yes         1     2      2  \n",
       "7         Darlinghurst 2022-12-21       Yes         4     5      2  \n",
       "8            Kingsford 2023-01-03       Yes         6     6      3  \n",
       "9            Petersham 2023-01-08       Yes         6     6      4  "
      ]
     },
     "execution_count": 8,
     "metadata": {},
     "output_type": "execute_result"
    }
   ],
   "source": [
    "df.head(10)"
   ]
  },
  {
   "cell_type": "markdown",
   "metadata": {},
   "source": [
    "### Getting property type from the `prop_ID` column"
   ]
  },
  {
   "cell_type": "code",
   "execution_count": 9,
   "metadata": {},
   "outputs": [],
   "source": [
    "# Initializing a property type column from the prop_ID column\n",
    "prop_type = df[\"prop_ID\"].str.split(\"-sydney\", n=1, expand=True)\n",
    "\n",
    "# Setting prop_type column first array element (first split)\n",
    "df[\"prop_type\"] = prop_type[0]\n",
    "\n",
    "# Replacing \"-\" with spaces to clean up column\n",
    "df[\"prop_type\"] = df[\"prop_type\"].replace(\"-\",\" \",regex=True)\n",
    "\n",
    "# Capitalizing column values\n",
    "df[\"prop_type\"] = df[\"prop_type\"].str.capitalize()"
   ]
  },
  {
   "cell_type": "code",
   "execution_count": 10,
   "metadata": {},
   "outputs": [
    {
     "data": {
      "text/html": [
       "<div>\n",
       "<style scoped>\n",
       "    .dataframe tbody tr th:only-of-type {\n",
       "        vertical-align: middle;\n",
       "    }\n",
       "\n",
       "    .dataframe tbody tr th {\n",
       "        vertical-align: top;\n",
       "    }\n",
       "\n",
       "    .dataframe thead th {\n",
       "        text-align: right;\n",
       "    }\n",
       "</style>\n",
       "<table border=\"1\" class=\"dataframe\">\n",
       "  <thead>\n",
       "    <tr style=\"text-align: right;\">\n",
       "      <th></th>\n",
       "      <th>prop_ID</th>\n",
       "      <th>rent_pw</th>\n",
       "      <th>suburb</th>\n",
       "      <th>avail_date</th>\n",
       "      <th>bills_inc</th>\n",
       "      <th>prop_pop</th>\n",
       "      <th>beds</th>\n",
       "      <th>baths</th>\n",
       "      <th>prop_type</th>\n",
       "    </tr>\n",
       "  </thead>\n",
       "  <tbody>\n",
       "    <tr>\n",
       "      <th>0</th>\n",
       "      <td>share-house-sydney-sydney-olympic-park-2127-P1...</td>\n",
       "      <td>550</td>\n",
       "      <td>Sydney Olympic Park</td>\n",
       "      <td>2022-12-21</td>\n",
       "      <td>Yes</td>\n",
       "      <td>3</td>\n",
       "      <td>3</td>\n",
       "      <td>2</td>\n",
       "      <td>Share house</td>\n",
       "    </tr>\n",
       "    <tr>\n",
       "      <th>1</th>\n",
       "      <td>share-house-sydney-sydney-olympic-park-2127-P1...</td>\n",
       "      <td>450</td>\n",
       "      <td>Sydney Olympic Park</td>\n",
       "      <td>2022-12-21</td>\n",
       "      <td>Yes</td>\n",
       "      <td>3</td>\n",
       "      <td>3</td>\n",
       "      <td>2</td>\n",
       "      <td>Share house</td>\n",
       "    </tr>\n",
       "    <tr>\n",
       "      <th>2</th>\n",
       "      <td>share-house-sydney-forest-lodge-2037-P1134072</td>\n",
       "      <td>300</td>\n",
       "      <td>Forest Lodge</td>\n",
       "      <td>2022-12-25</td>\n",
       "      <td>Yes</td>\n",
       "      <td>7</td>\n",
       "      <td>6</td>\n",
       "      <td>4</td>\n",
       "      <td>Share house</td>\n",
       "    </tr>\n",
       "    <tr>\n",
       "      <th>3</th>\n",
       "      <td>share-house-sydney-surry-hills-2010-P525785</td>\n",
       "      <td>300</td>\n",
       "      <td>Surry Hills</td>\n",
       "      <td>2022-12-25</td>\n",
       "      <td>Yes</td>\n",
       "      <td>7</td>\n",
       "      <td>6</td>\n",
       "      <td>4</td>\n",
       "      <td>Share house</td>\n",
       "    </tr>\n",
       "    <tr>\n",
       "      <th>4</th>\n",
       "      <td>studio-sydney-darlinghurst-2010-P1279699</td>\n",
       "      <td>500</td>\n",
       "      <td>Darlinghurst</td>\n",
       "      <td>2022-12-21</td>\n",
       "      <td>Yes</td>\n",
       "      <td>0</td>\n",
       "      <td>1</td>\n",
       "      <td>1</td>\n",
       "      <td>Studio</td>\n",
       "    </tr>\n",
       "    <tr>\n",
       "      <th>5</th>\n",
       "      <td>whole-property-sydney-north-ryde-2113-P1092185</td>\n",
       "      <td>400</td>\n",
       "      <td>North Ryde</td>\n",
       "      <td>2022-12-21</td>\n",
       "      <td>Yes</td>\n",
       "      <td>0</td>\n",
       "      <td>3</td>\n",
       "      <td>3</td>\n",
       "      <td>Whole property</td>\n",
       "    </tr>\n",
       "    <tr>\n",
       "      <th>6</th>\n",
       "      <td>share-house-sydney-waterloo-2017-P1272271</td>\n",
       "      <td>450</td>\n",
       "      <td>Waterloo</td>\n",
       "      <td>2022-12-21</td>\n",
       "      <td>Yes</td>\n",
       "      <td>1</td>\n",
       "      <td>2</td>\n",
       "      <td>2</td>\n",
       "      <td>Share house</td>\n",
       "    </tr>\n",
       "    <tr>\n",
       "      <th>7</th>\n",
       "      <td>share-house-sydney-darlinghurst-2010-P1226177</td>\n",
       "      <td>375</td>\n",
       "      <td>Darlinghurst</td>\n",
       "      <td>2022-12-21</td>\n",
       "      <td>Yes</td>\n",
       "      <td>4</td>\n",
       "      <td>5</td>\n",
       "      <td>2</td>\n",
       "      <td>Share house</td>\n",
       "    </tr>\n",
       "    <tr>\n",
       "      <th>8</th>\n",
       "      <td>share-house-sydney-kingsford-2032-P1157059</td>\n",
       "      <td>340</td>\n",
       "      <td>Kingsford</td>\n",
       "      <td>2023-01-03</td>\n",
       "      <td>Yes</td>\n",
       "      <td>6</td>\n",
       "      <td>6</td>\n",
       "      <td>3</td>\n",
       "      <td>Share house</td>\n",
       "    </tr>\n",
       "    <tr>\n",
       "      <th>9</th>\n",
       "      <td>share-house-sydney-petersham-2049-P1231915</td>\n",
       "      <td>475</td>\n",
       "      <td>Petersham</td>\n",
       "      <td>2023-01-08</td>\n",
       "      <td>Yes</td>\n",
       "      <td>6</td>\n",
       "      <td>6</td>\n",
       "      <td>4</td>\n",
       "      <td>Share house</td>\n",
       "    </tr>\n",
       "  </tbody>\n",
       "</table>\n",
       "</div>"
      ],
      "text/plain": [
       "                                             prop_ID  rent_pw  \\\n",
       "0  share-house-sydney-sydney-olympic-park-2127-P1...      550   \n",
       "1  share-house-sydney-sydney-olympic-park-2127-P1...      450   \n",
       "2      share-house-sydney-forest-lodge-2037-P1134072      300   \n",
       "3        share-house-sydney-surry-hills-2010-P525785      300   \n",
       "4           studio-sydney-darlinghurst-2010-P1279699      500   \n",
       "5     whole-property-sydney-north-ryde-2113-P1092185      400   \n",
       "6          share-house-sydney-waterloo-2017-P1272271      450   \n",
       "7      share-house-sydney-darlinghurst-2010-P1226177      375   \n",
       "8         share-house-sydney-kingsford-2032-P1157059      340   \n",
       "9         share-house-sydney-petersham-2049-P1231915      475   \n",
       "\n",
       "                suburb avail_date bills_inc  prop_pop  beds  baths  \\\n",
       "0  Sydney Olympic Park 2022-12-21       Yes         3     3      2   \n",
       "1  Sydney Olympic Park 2022-12-21       Yes         3     3      2   \n",
       "2         Forest Lodge 2022-12-25       Yes         7     6      4   \n",
       "3          Surry Hills 2022-12-25       Yes         7     6      4   \n",
       "4         Darlinghurst 2022-12-21       Yes         0     1      1   \n",
       "5           North Ryde 2022-12-21       Yes         0     3      3   \n",
       "6             Waterloo 2022-12-21       Yes         1     2      2   \n",
       "7         Darlinghurst 2022-12-21       Yes         4     5      2   \n",
       "8            Kingsford 2023-01-03       Yes         6     6      3   \n",
       "9            Petersham 2023-01-08       Yes         6     6      4   \n",
       "\n",
       "        prop_type  \n",
       "0     Share house  \n",
       "1     Share house  \n",
       "2     Share house  \n",
       "3     Share house  \n",
       "4          Studio  \n",
       "5  Whole property  \n",
       "6     Share house  \n",
       "7     Share house  \n",
       "8     Share house  \n",
       "9     Share house  "
      ]
     },
     "execution_count": 10,
     "metadata": {},
     "output_type": "execute_result"
    }
   ],
   "source": [
    "df.head(10)"
   ]
  },
  {
   "cell_type": "markdown",
   "metadata": {},
   "source": [
    "### Describing dataset after converting columns to relevant data types"
   ]
  },
  {
   "cell_type": "code",
   "execution_count": 11,
   "metadata": {},
   "outputs": [
    {
     "data": {
      "text/html": [
       "<div>\n",
       "<style scoped>\n",
       "    .dataframe tbody tr th:only-of-type {\n",
       "        vertical-align: middle;\n",
       "    }\n",
       "\n",
       "    .dataframe tbody tr th {\n",
       "        vertical-align: top;\n",
       "    }\n",
       "\n",
       "    .dataframe thead th {\n",
       "        text-align: right;\n",
       "    }\n",
       "</style>\n",
       "<table border=\"1\" class=\"dataframe\">\n",
       "  <thead>\n",
       "    <tr style=\"text-align: right;\">\n",
       "      <th></th>\n",
       "      <th>rent_pw</th>\n",
       "      <th>prop_pop</th>\n",
       "      <th>beds</th>\n",
       "      <th>baths</th>\n",
       "    </tr>\n",
       "  </thead>\n",
       "  <tbody>\n",
       "    <tr>\n",
       "      <th>count</th>\n",
       "      <td>252.000000</td>\n",
       "      <td>252.000000</td>\n",
       "      <td>252.000000</td>\n",
       "      <td>252.000000</td>\n",
       "    </tr>\n",
       "    <tr>\n",
       "      <th>mean</th>\n",
       "      <td>354.313492</td>\n",
       "      <td>2.603175</td>\n",
       "      <td>3.186508</td>\n",
       "      <td>1.980159</td>\n",
       "    </tr>\n",
       "    <tr>\n",
       "      <th>std</th>\n",
       "      <td>137.717018</td>\n",
       "      <td>1.790098</td>\n",
       "      <td>1.428556</td>\n",
       "      <td>0.848952</td>\n",
       "    </tr>\n",
       "    <tr>\n",
       "      <th>min</th>\n",
       "      <td>120.000000</td>\n",
       "      <td>0.000000</td>\n",
       "      <td>1.000000</td>\n",
       "      <td>1.000000</td>\n",
       "    </tr>\n",
       "    <tr>\n",
       "      <th>25%</th>\n",
       "      <td>260.000000</td>\n",
       "      <td>1.000000</td>\n",
       "      <td>2.000000</td>\n",
       "      <td>1.000000</td>\n",
       "    </tr>\n",
       "    <tr>\n",
       "      <th>50%</th>\n",
       "      <td>345.000000</td>\n",
       "      <td>2.000000</td>\n",
       "      <td>3.000000</td>\n",
       "      <td>2.000000</td>\n",
       "    </tr>\n",
       "    <tr>\n",
       "      <th>75%</th>\n",
       "      <td>400.000000</td>\n",
       "      <td>4.000000</td>\n",
       "      <td>4.000000</td>\n",
       "      <td>2.000000</td>\n",
       "    </tr>\n",
       "    <tr>\n",
       "      <th>max</th>\n",
       "      <td>1200.000000</td>\n",
       "      <td>7.000000</td>\n",
       "      <td>6.000000</td>\n",
       "      <td>4.000000</td>\n",
       "    </tr>\n",
       "  </tbody>\n",
       "</table>\n",
       "</div>"
      ],
      "text/plain": [
       "           rent_pw    prop_pop        beds       baths\n",
       "count   252.000000  252.000000  252.000000  252.000000\n",
       "mean    354.313492    2.603175    3.186508    1.980159\n",
       "std     137.717018    1.790098    1.428556    0.848952\n",
       "min     120.000000    0.000000    1.000000    1.000000\n",
       "25%     260.000000    1.000000    2.000000    1.000000\n",
       "50%     345.000000    2.000000    3.000000    2.000000\n",
       "75%     400.000000    4.000000    4.000000    2.000000\n",
       "max    1200.000000    7.000000    6.000000    4.000000"
      ]
     },
     "execution_count": 11,
     "metadata": {},
     "output_type": "execute_result"
    }
   ],
   "source": [
    "df.describe()"
   ]
  },
  {
   "cell_type": "markdown",
   "metadata": {},
   "source": [
    "## Exploratory Data Analysis"
   ]
  },
  {
   "cell_type": "markdown",
   "metadata": {},
   "source": [
    "### Checking distribution of rent values"
   ]
  },
  {
   "cell_type": "code",
   "execution_count": 13,
   "metadata": {},
   "outputs": [
    {
     "data": {
      "image/png": "[encoded data removed]",
      "text/plain": [
       "<Figure size 720x360 with 1 Axes>"
      ]
     },
     "metadata": {},
     "output_type": "display_data"
    }
   ],
   "source": [
    "# Plotting frequency histogram to check distribution of rent values\n",
    "sns.set(rc={\"figure.figsize\":(10,5)})\n",
    "plt.hist(df[\"rent_pw\"],color=\"salmon\",edgecolor=\"blue\")\n",
    "\n",
    "plt.title(\"Distribution of rent values\")\n",
    "plt.xlabel(\"Rent\")\n",
    "plt.ylabel(\"Frequency\")\n",
    "plt.show()"
   ]
  },
  {
   "cell_type": "markdown",
   "metadata": {},
   "source": [
    "### Heatmap to look for patterns"
   ]
  },
  {
   "cell_type": "code",
   "execution_count": 14,
   "metadata": {},
   "outputs": [
    {
     "data": {
      "image/png": "[encoded data removed]",
      "text/plain": [
       "<Figure size 720x360 with 2 Axes>"
      ]
     },
     "metadata": {},
     "output_type": "display_data"
    }
   ],
   "source": [
    "# Creating a view with only numerical values\n",
    "numerical_data = df[[\"prop_pop\",\"beds\",\"baths\",\"rent_pw\"]]\n",
    "\n",
    "# creating a heatmap of correlation amongst values\n",
    "sns.set(rc={\"figure.figsize\":(10,5)}) \n",
    "sns.heatmap(numerical_data.corr(),annot=True)\n",
    "\n",
    "plt.title(\"Correlation matrix\")\n",
    "plt.show()"
   ]
  },
  {
   "attachments": {},
   "cell_type": "markdown",
   "metadata": {},
   "source": [
    "##### Negative correlation amongst rent, beds and bathrooms indicates that rent does not necessarily increase with respect to number of beds and baths."
   ]
  },
  {
   "cell_type": "markdown",
   "metadata": {},
   "source": [
    "### Checking rent values"
   ]
  },
  {
   "cell_type": "code",
   "execution_count": 26,
   "metadata": {},
   "outputs": [
    {
     "data": {
      "image/png": "[encoded data removed]",
      "text/plain": [
       "<Figure size 1008x504 with 1 Axes>"
      ]
     },
     "metadata": {},
     "output_type": "display_data"
    }
   ],
   "source": [
    "# Checking for more outliers by creating boxplots\n",
    "sns.set(rc={\"figure.figsize\":(14,7)})\n",
    "sns.boxplot(df['prop_type'], df[\"rent_pw\"])\n",
    "plt.xlabel(\"Property Type\")\n",
    "plt.ylabel(\"Rent\")\n",
    "plt.title(\"Rent per Property Type\")\n",
    "plt.show()"
   ]
  },
  {
   "cell_type": "markdown",
   "metadata": {},
   "source": [
    "### Finding the minimum rent with bills included"
   ]
  },
  {
   "cell_type": "code",
   "execution_count": 16,
   "metadata": {},
   "outputs": [
    {
     "data": {
      "text/html": [
       "<div>\n",
       "<style scoped>\n",
       "    .dataframe tbody tr th:only-of-type {\n",
       "        vertical-align: middle;\n",
       "    }\n",
       "\n",
       "    .dataframe tbody tr th {\n",
       "        vertical-align: top;\n",
       "    }\n",
       "\n",
       "    .dataframe thead th {\n",
       "        text-align: right;\n",
       "    }\n",
       "</style>\n",
       "<table border=\"1\" class=\"dataframe\">\n",
       "  <thead>\n",
       "    <tr style=\"text-align: right;\">\n",
       "      <th></th>\n",
       "      <th>prop_ID</th>\n",
       "      <th>rent_pw</th>\n",
       "      <th>suburb</th>\n",
       "      <th>avail_date</th>\n",
       "      <th>bills_inc</th>\n",
       "      <th>prop_pop</th>\n",
       "      <th>beds</th>\n",
       "      <th>baths</th>\n",
       "      <th>prop_type</th>\n",
       "    </tr>\n",
       "  </thead>\n",
       "  <tbody>\n",
       "    <tr>\n",
       "      <th>67</th>\n",
       "      <td>share-house-sydney-warwick-farm-2170-P879819</td>\n",
       "      <td>120</td>\n",
       "      <td>Warwick Farm</td>\n",
       "      <td>2022-12-21</td>\n",
       "      <td>Yes</td>\n",
       "      <td>1</td>\n",
       "      <td>3</td>\n",
       "      <td>1</td>\n",
       "      <td>Share house</td>\n",
       "    </tr>\n",
       "  </tbody>\n",
       "</table>\n",
       "</div>"
      ],
      "text/plain": [
       "                                         prop_ID  rent_pw        suburb  \\\n",
       "67  share-house-sydney-warwick-farm-2170-P879819      120  Warwick Farm   \n",
       "\n",
       "   avail_date bills_inc  prop_pop  beds  baths    prop_type  \n",
       "67 2022-12-21       Yes         1     3      1  Share house  "
      ]
     },
     "execution_count": 16,
     "metadata": {},
     "output_type": "execute_result"
    }
   ],
   "source": [
    "# Creating views where bills are included in rent\n",
    "view = df.loc[(df[\"bills_inc\"] == \"Yes\")]\n",
    "\n",
    "# Getting rows with minimum rent where bills are included\n",
    "view.loc[(view[\"rent_pw\"] == view[\"rent_pw\"].min())]"
   ]
  },
  {
   "cell_type": "markdown",
   "metadata": {},
   "source": [
    "### Finding minimum rent where share houses have 1 bathroom per 2 people"
   ]
  },
  {
   "cell_type": "markdown",
   "metadata": {},
   "source": [
    "Property population was increased by 1 to simulate the number of bathrooms available per person after one more person moves into the property. "
   ]
  },
  {
   "cell_type": "code",
   "execution_count": 17,
   "metadata": {},
   "outputs": [
    {
     "data": {
      "text/html": [
       "<div>\n",
       "<style scoped>\n",
       "    .dataframe tbody tr th:only-of-type {\n",
       "        vertical-align: middle;\n",
       "    }\n",
       "\n",
       "    .dataframe tbody tr th {\n",
       "        vertical-align: top;\n",
       "    }\n",
       "\n",
       "    .dataframe thead th {\n",
       "        text-align: right;\n",
       "    }\n",
       "</style>\n",
       "<table border=\"1\" class=\"dataframe\">\n",
       "  <thead>\n",
       "    <tr style=\"text-align: right;\">\n",
       "      <th></th>\n",
       "      <th>prop_ID</th>\n",
       "      <th>rent_pw</th>\n",
       "      <th>suburb</th>\n",
       "      <th>avail_date</th>\n",
       "      <th>bills_inc</th>\n",
       "      <th>prop_pop</th>\n",
       "      <th>beds</th>\n",
       "      <th>baths</th>\n",
       "      <th>prop_type</th>\n",
       "      <th>bath_to_pop_ratio</th>\n",
       "    </tr>\n",
       "  </thead>\n",
       "  <tbody>\n",
       "    <tr>\n",
       "      <th>67</th>\n",
       "      <td>share-house-sydney-warwick-farm-2170-P879819</td>\n",
       "      <td>120</td>\n",
       "      <td>Warwick Farm</td>\n",
       "      <td>2022-12-21</td>\n",
       "      <td>Yes</td>\n",
       "      <td>1</td>\n",
       "      <td>3</td>\n",
       "      <td>1</td>\n",
       "      <td>Share house</td>\n",
       "      <td>0.5</td>\n",
       "    </tr>\n",
       "  </tbody>\n",
       "</table>\n",
       "</div>"
      ],
      "text/plain": [
       "                                         prop_ID  rent_pw        suburb  \\\n",
       "67  share-house-sydney-warwick-farm-2170-P879819      120  Warwick Farm   \n",
       "\n",
       "   avail_date bills_inc  prop_pop  beds  baths    prop_type  bath_to_pop_ratio  \n",
       "67 2022-12-21       Yes         1     3      1  Share house                0.5  "
      ]
     },
     "execution_count": 17,
     "metadata": {},
     "output_type": "execute_result"
    }
   ],
   "source": [
    "# Creating bath-to-pop ratio column (rounded to one decimal)\n",
    "df[\"bath_to_pop_ratio\"] = (df[\"baths\"]/(df[\"prop_pop\"]+1)).round(1)\n",
    "\n",
    "# Getting share houses where there are atleast 1 bathroom per 2 bedrooms\n",
    "view = df.loc[(df[\"bath_to_pop_ratio\"] >= 0.5) & (df[\"prop_type\"] == \"Share house\")]\n",
    "\n",
    "# getting minimum rent where there are atleast 1 bathroom per 2 bedrooms\n",
    "view.loc[(view[\"rent_pw\"] == view[\"rent_pw\"].min())]"
   ]
  },
  {
   "cell_type": "markdown",
   "metadata": {},
   "source": [
    "### Share houses with a population between 1 and 3"
   ]
  },
  {
   "cell_type": "code",
   "execution_count": 18,
   "metadata": {},
   "outputs": [
    {
     "data": {
      "text/html": [
       "<div>\n",
       "<style scoped>\n",
       "    .dataframe tbody tr th:only-of-type {\n",
       "        vertical-align: middle;\n",
       "    }\n",
       "\n",
       "    .dataframe tbody tr th {\n",
       "        vertical-align: top;\n",
       "    }\n",
       "\n",
       "    .dataframe thead th {\n",
       "        text-align: right;\n",
       "    }\n",
       "</style>\n",
       "<table border=\"1\" class=\"dataframe\">\n",
       "  <thead>\n",
       "    <tr style=\"text-align: right;\">\n",
       "      <th></th>\n",
       "      <th>prop_ID</th>\n",
       "      <th>rent_pw</th>\n",
       "      <th>suburb</th>\n",
       "      <th>avail_date</th>\n",
       "      <th>bills_inc</th>\n",
       "      <th>prop_pop</th>\n",
       "      <th>beds</th>\n",
       "      <th>baths</th>\n",
       "      <th>prop_type</th>\n",
       "      <th>bath_to_pop_ratio</th>\n",
       "    </tr>\n",
       "  </thead>\n",
       "  <tbody>\n",
       "    <tr>\n",
       "      <th>67</th>\n",
       "      <td>share-house-sydney-warwick-farm-2170-P879819</td>\n",
       "      <td>120</td>\n",
       "      <td>Warwick Farm</td>\n",
       "      <td>2022-12-21</td>\n",
       "      <td>Yes</td>\n",
       "      <td>1</td>\n",
       "      <td>3</td>\n",
       "      <td>1</td>\n",
       "      <td>Share house</td>\n",
       "      <td>0.5</td>\n",
       "    </tr>\n",
       "  </tbody>\n",
       "</table>\n",
       "</div>"
      ],
      "text/plain": [
       "                                         prop_ID  rent_pw        suburb  \\\n",
       "67  share-house-sydney-warwick-farm-2170-P879819      120  Warwick Farm   \n",
       "\n",
       "   avail_date bills_inc  prop_pop  beds  baths    prop_type  bath_to_pop_ratio  \n",
       "67 2022-12-21       Yes         1     3      1  Share house                0.5  "
      ]
     },
     "execution_count": 18,
     "metadata": {},
     "output_type": "execute_result"
    }
   ],
   "source": [
    "# Creating views to get share houses with a population in range 1 - 3 (inclusive)\n",
    "view = df.loc[(df[\"prop_pop\"] >= 1) & (df[\"prop_pop\"] <= 3) & (df[\"prop_type\"] == \"Share house\")]\n",
    "view.loc[(view[\"rent_pw\"] == view[\"rent_pw\"].min())]"
   ]
  },
  {
   "cell_type": "markdown",
   "metadata": {},
   "source": [
    "### Average rent by property type"
   ]
  },
  {
   "cell_type": "code",
   "execution_count": 19,
   "metadata": {},
   "outputs": [
    {
     "data": {
      "text/html": [
       "<div>\n",
       "<style scoped>\n",
       "    .dataframe tbody tr th:only-of-type {\n",
       "        vertical-align: middle;\n",
       "    }\n",
       "\n",
       "    .dataframe tbody tr th {\n",
       "        vertical-align: top;\n",
       "    }\n",
       "\n",
       "    .dataframe thead th {\n",
       "        text-align: right;\n",
       "    }\n",
       "</style>\n",
       "<table border=\"1\" class=\"dataframe\">\n",
       "  <thead>\n",
       "    <tr style=\"text-align: right;\">\n",
       "      <th></th>\n",
       "      <th>Prop_type</th>\n",
       "      <th>Average Rent</th>\n",
       "    </tr>\n",
       "  </thead>\n",
       "  <tbody>\n",
       "    <tr>\n",
       "      <th>0</th>\n",
       "      <td>1 bed</td>\n",
       "      <td>636.666667</td>\n",
       "    </tr>\n",
       "    <tr>\n",
       "      <th>1</th>\n",
       "      <td>Granny flat</td>\n",
       "      <td>406.666667</td>\n",
       "    </tr>\n",
       "    <tr>\n",
       "      <th>2</th>\n",
       "      <td>Homestay</td>\n",
       "      <td>302.857143</td>\n",
       "    </tr>\n",
       "    <tr>\n",
       "      <th>3</th>\n",
       "      <td>Share house</td>\n",
       "      <td>340.414634</td>\n",
       "    </tr>\n",
       "    <tr>\n",
       "      <th>4</th>\n",
       "      <td>Student accommodation</td>\n",
       "      <td>304.833333</td>\n",
       "    </tr>\n",
       "    <tr>\n",
       "      <th>5</th>\n",
       "      <td>Studio</td>\n",
       "      <td>454.090909</td>\n",
       "    </tr>\n",
       "    <tr>\n",
       "      <th>6</th>\n",
       "      <td>Whole property</td>\n",
       "      <td>754.000000</td>\n",
       "    </tr>\n",
       "  </tbody>\n",
       "</table>\n",
       "</div>"
      ],
      "text/plain": [
       "               Prop_type  Average Rent\n",
       "0                  1 bed    636.666667\n",
       "1            Granny flat    406.666667\n",
       "2               Homestay    302.857143\n",
       "3            Share house    340.414634\n",
       "4  Student accommodation    304.833333\n",
       "5                 Studio    454.090909\n",
       "6         Whole property    754.000000"
      ]
     },
     "execution_count": 19,
     "metadata": {},
     "output_type": "execute_result"
    }
   ],
   "source": [
    "avg_rent_per_prop = df.groupby([\"prop_type\"], as_index=False).mean()\n",
    "avg_rent_per_prop = avg_rent_per_prop[[\"prop_type\",\"rent_pw\"]]\n",
    "avg_rent_per_prop.columns = [\"Prop_type\",\"Average Rent\"]\n",
    "avg_rent_per_prop"
   ]
  },
  {
   "cell_type": "code",
   "execution_count": 28,
   "metadata": {},
   "outputs": [
    {
     "data": {
      "image/png": "[encoded data removed]",
      "text/plain": [
       "<Figure size 720x360 with 1 Axes>"
      ]
     },
     "metadata": {},
     "output_type": "display_data"
    }
   ],
   "source": [
    "sns.set(rc={\"figure.figsize\":(10,5)})\n",
    "palette = sns.color_palette(\"Reds_d\", len(avg_rent_per_prop)+6)\n",
    "fig = sns.barplot(x=avg_rent_per_prop['Prop_type'],y=avg_rent_per_prop[\"Average Rent\"],palette=palette)\n",
    "fig.set_xticklabels(fig.get_xticklabels(),fontsize=10, rotation =30, ha=\"right\")\n",
    "plt.ylabel(\"Property Type\")\n",
    "plt.xlabel(\"Average rent\")\n",
    "plt.show() "
   ]
  },
  {
   "cell_type": "markdown",
   "metadata": {},
   "source": [
    "### Properties available in the next 10 days"
   ]
  },
  {
   "cell_type": "code",
   "execution_count": null,
   "metadata": {},
   "outputs": [
    {
     "name": "stdout",
     "output_type": "stream",
     "text": [
      "1 properties available in 10 days\n"
     ]
    }
   ],
   "source": [
    "# Initializing empty column\n",
    "df[\"days_to_avail\"] = \"\"\n",
    "\n",
    "# Converting datetime.date into datetime64 data type\n",
    "today = pd.to_datetime(date.today())\n",
    "\n",
    "# Filling column with difference of dates\n",
    "df[\"days_to_avail\"] = (df[\"avail_date\"] - today)\n",
    "\n",
    "# Convertin column to string\n",
    "df[\"days_to_avail\"] = df[\"days_to_avail\"].astype(\"string\")\n",
    "\n",
    "# Splitting column strings to remove \" days\"\n",
    "days = df[\"days_to_avail\"].str.split(\" \", n=1,expand=True)\n",
    "\n",
    "# Replacing column values with numeric part\n",
    "df[\"days_to_avail\"] = days[0]\n",
    "\n",
    "# Converting column to numeric\n",
    "df[\"days_to_avail\"] = pd.to_numeric(df[\"days_to_avail\"])\n",
    "\n",
    "# Initializing the number of days\n",
    "days = 10\n",
    "\n",
    "# Selecting properties that are available in the next 10 days\n",
    "view = df.loc[(df[\"days_to_avail\"] == days)]\n",
    "\n",
    "# Printing count of available properties\n",
    "print(f'{view[\"prop_ID\"].count()} properties available in {days} days')\n",
    "\n"
   ]
  }
 ],
 "metadata": {
  "kernelspec": {
   "display_name": "base",
   "language": "python",
   "name": "python3"
  },
  "language_info": {
   "codemirror_mode": {
    "name": "ipython",
    "version": 3
   },
   "file_extension": ".py",
   "mimetype": "text/x-python",
   "name": "python",
   "nbconvert_exporter": "python",
   "pygments_lexer": "ipython3",
   "version": "3.8.3"
  },
  "orig_nbformat": 4,
  "vscode": {
   "interpreter": {
    "hash": "40d3a090f54c6569ab1632332b64b2c03c39dcf918b08424e98f38b5ae0af88f"
   }
  }
 },
 "nbformat": 4,
 "nbformat_minor": 2
}
