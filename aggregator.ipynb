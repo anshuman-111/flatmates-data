{
 "cells": [
  {
   "cell_type": "markdown",
   "metadata": {},
   "source": [
    "### Importing scraper and necessary libraries"
   ]
  },
  {
   "cell_type": "code",
   "execution_count": 1,
   "metadata": {},
   "outputs": [],
   "source": [
    "from scraper import listing_df\n",
    "import pandas as pd\n",
    "import matplotlib.pyplot as plt\n",
    "from datetime import date\n",
    "import seaborn as sns"
   ]
  },
  {
   "cell_type": "markdown",
   "metadata": {},
   "source": [
    "### Initializing Dataframe "
   ]
  },
  {
   "cell_type": "code",
   "execution_count": 2,
   "metadata": {},
   "outputs": [],
   "source": [
    "df = listing_df"
   ]
  },
  {
   "cell_type": "markdown",
   "metadata": {},
   "source": [
    "### Checking and dropping NaN values if any"
   ]
  },
  {
   "cell_type": "code",
   "execution_count": 3,
   "metadata": {},
   "outputs": [
    {
     "name": "stdout",
     "output_type": "stream",
     "text": [
      "prop_ID       0\n",
      "rent_pw       0\n",
      "suburb        0\n",
      "avail_date    0\n",
      "bills_inc     0\n",
      "prop_pop      0\n",
      "beds          0\n",
      "baths         0\n",
      "dtype: int64\n"
     ]
    }
   ],
   "source": [
    "print(df.isna().sum())"
   ]
  },
  {
   "cell_type": "markdown",
   "metadata": {},
   "source": [
    "### Exploring dataset"
   ]
  },
  {
   "cell_type": "code",
   "execution_count": 4,
   "metadata": {},
   "outputs": [
    {
     "data": {
      "text/html": [
       "<div>\n",
       "<style scoped>\n",
       "    .dataframe tbody tr th:only-of-type {\n",
       "        vertical-align: middle;\n",
       "    }\n",
       "\n",
       "    .dataframe tbody tr th {\n",
       "        vertical-align: top;\n",
       "    }\n",
       "\n",
       "    .dataframe thead th {\n",
       "        text-align: right;\n",
       "    }\n",
       "</style>\n",
       "<table border=\"1\" class=\"dataframe\">\n",
       "  <thead>\n",
       "    <tr style=\"text-align: right;\">\n",
       "      <th></th>\n",
       "      <th>prop_ID</th>\n",
       "      <th>rent_pw</th>\n",
       "      <th>suburb</th>\n",
       "      <th>avail_date</th>\n",
       "      <th>bills_inc</th>\n",
       "      <th>prop_pop</th>\n",
       "      <th>beds</th>\n",
       "      <th>baths</th>\n",
       "    </tr>\n",
       "  </thead>\n",
       "  <tbody>\n",
       "    <tr>\n",
       "      <th>count</th>\n",
       "      <td>252</td>\n",
       "      <td>252</td>\n",
       "      <td>252</td>\n",
       "      <td>252</td>\n",
       "      <td>252</td>\n",
       "      <td>252</td>\n",
       "      <td>252</td>\n",
       "      <td>252</td>\n",
       "    </tr>\n",
       "    <tr>\n",
       "      <th>unique</th>\n",
       "      <td>252</td>\n",
       "      <td>85</td>\n",
       "      <td>124</td>\n",
       "      <td>36</td>\n",
       "      <td>2</td>\n",
       "      <td>8</td>\n",
       "      <td>6</td>\n",
       "      <td>4</td>\n",
       "    </tr>\n",
       "    <tr>\n",
       "      <th>top</th>\n",
       "      <td>share-house-sydney-randwick-2031-P1044205</td>\n",
       "      <td>300</td>\n",
       "      <td>Mascot</td>\n",
       "      <td>Available Now</td>\n",
       "      <td>Yes</td>\n",
       "      <td>0</td>\n",
       "      <td>2</td>\n",
       "      <td>2</td>\n",
       "    </tr>\n",
       "    <tr>\n",
       "      <th>freq</th>\n",
       "      <td>1</td>\n",
       "      <td>20</td>\n",
       "      <td>17</td>\n",
       "      <td>159</td>\n",
       "      <td>146</td>\n",
       "      <td>57</td>\n",
       "      <td>76</td>\n",
       "      <td>118</td>\n",
       "    </tr>\n",
       "  </tbody>\n",
       "</table>\n",
       "</div>"
      ],
      "text/plain": [
       "                                          prop_ID rent_pw  suburb  \\\n",
       "count                                         252     252     252   \n",
       "unique                                        252      85     124   \n",
       "top     share-house-sydney-randwick-2031-P1044205     300  Mascot   \n",
       "freq                                            1      20      17   \n",
       "\n",
       "           avail_date bills_inc prop_pop beds baths  \n",
       "count             252       252      252  252   252  \n",
       "unique             36         2        8    6     4  \n",
       "top     Available Now       Yes        0    2     2  \n",
       "freq              159       146       57   76   118  "
      ]
     },
     "execution_count": 4,
     "metadata": {},
     "output_type": "execute_result"
    }
   ],
   "source": [
    "df.describe()"
   ]
  },
  {
   "cell_type": "markdown",
   "metadata": {},
   "source": [
    "### Checking for duplicates"
   ]
  },
  {
   "cell_type": "code",
   "execution_count": 5,
   "metadata": {},
   "outputs": [
    {
     "name": "stdout",
     "output_type": "stream",
     "text": [
      "No duplicates found!\n"
     ]
    }
   ],
   "source": [
    "try:\n",
    "    print(pd.concat(x for _, x in df.groupby(\"prop_ID\") if len(x) > 1))\n",
    "except ValueError as err:\n",
    "    print(\"No duplicates found!\")"
   ]
  },
  {
   "cell_type": "markdown",
   "metadata": {},
   "source": [
    "### Removing duplicates if any"
   ]
  },
  {
   "cell_type": "code",
   "execution_count": 6,
   "metadata": {},
   "outputs": [],
   "source": [
    "df.drop_duplicates(inplace=True)"
   ]
  },
  {
   "cell_type": "markdown",
   "metadata": {},
   "source": [
    "### Formatting columns to relevant types"
   ]
  },
  {
   "cell_type": "code",
   "execution_count": 7,
   "metadata": {},
   "outputs": [],
   "source": [
    " # Removing commas from the rent column\n",
    "df[\"rent_pw\"] = df[\"rent_pw\"].replace(\",\",\"\",regex=True)\n",
    "\n",
    "# Converting beds, baths, rent_pw, prop_pop columns to int\n",
    "df[[\"prop_pop\",\"beds\",\"baths\",\"rent_pw\"]] = df[[\"prop_pop\",\"beds\",\"baths\",\"rent_pw\"]].apply(pd.to_numeric)\n",
    "\n",
    "# Removing \"Available \" from avail_date column\n",
    "df[\"avail_date\"] = df[\"avail_date\"].replace(\"Available \",\"\",regex=True)\n",
    "\n",
    "# Replacing \"Now\" with today's date\n",
    "df.loc[(df[\"avail_date\"]==\"Now\"), \"avail_date\"] = date.today()\n",
    "\n",
    "# Converting avail_date column to datetime data type\n",
    "df[\"avail_date\"] = pd.to_datetime(df[\"avail_date\"]) "
   ]
  },
  {
   "cell_type": "code",
   "execution_count": 8,
   "metadata": {},
   "outputs": [
    {
     "data": {
      "text/html": [
       "<div>\n",
       "<style scoped>\n",
       "    .dataframe tbody tr th:only-of-type {\n",
       "        vertical-align: middle;\n",
       "    }\n",
       "\n",
       "    .dataframe tbody tr th {\n",
       "        vertical-align: top;\n",
       "    }\n",
       "\n",
       "    .dataframe thead th {\n",
       "        text-align: right;\n",
       "    }\n",
       "</style>\n",
       "<table border=\"1\" class=\"dataframe\">\n",
       "  <thead>\n",
       "    <tr style=\"text-align: right;\">\n",
       "      <th></th>\n",
       "      <th>prop_ID</th>\n",
       "      <th>rent_pw</th>\n",
       "      <th>suburb</th>\n",
       "      <th>avail_date</th>\n",
       "      <th>bills_inc</th>\n",
       "      <th>prop_pop</th>\n",
       "      <th>beds</th>\n",
       "      <th>baths</th>\n",
       "    </tr>\n",
       "  </thead>\n",
       "  <tbody>\n",
       "    <tr>\n",
       "      <th>0</th>\n",
       "      <td>share-house-sydney-randwick-2031-P1044205</td>\n",
       "      <td>500</td>\n",
       "      <td>Randwick</td>\n",
       "      <td>2022-12-02</td>\n",
       "      <td>Yes</td>\n",
       "      <td>3</td>\n",
       "      <td>3</td>\n",
       "      <td>2</td>\n",
       "    </tr>\n",
       "    <tr>\n",
       "      <th>1</th>\n",
       "      <td>share-house-sydney-randwick-2031-P1040545</td>\n",
       "      <td>550</td>\n",
       "      <td>Randwick</td>\n",
       "      <td>2022-12-06</td>\n",
       "      <td>Yes</td>\n",
       "      <td>1</td>\n",
       "      <td>3</td>\n",
       "      <td>2</td>\n",
       "    </tr>\n",
       "    <tr>\n",
       "      <th>2</th>\n",
       "      <td>share-house-sydney-redfern-2016-P1197536</td>\n",
       "      <td>385</td>\n",
       "      <td>Redfern</td>\n",
       "      <td>2022-11-29</td>\n",
       "      <td>Yes</td>\n",
       "      <td>2</td>\n",
       "      <td>2</td>\n",
       "      <td>2</td>\n",
       "    </tr>\n",
       "    <tr>\n",
       "      <th>3</th>\n",
       "      <td>share-house-sydney-marrickville-2204-P1268117</td>\n",
       "      <td>320</td>\n",
       "      <td>Marrickville</td>\n",
       "      <td>2022-12-12</td>\n",
       "      <td>Yes</td>\n",
       "      <td>5</td>\n",
       "      <td>5</td>\n",
       "      <td>1</td>\n",
       "    </tr>\n",
       "    <tr>\n",
       "      <th>4</th>\n",
       "      <td>share-house-sydney-lavender-bay-2060-P1240929</td>\n",
       "      <td>540</td>\n",
       "      <td>Lavender Bay</td>\n",
       "      <td>2023-01-02</td>\n",
       "      <td>Yes</td>\n",
       "      <td>2</td>\n",
       "      <td>2</td>\n",
       "      <td>2</td>\n",
       "    </tr>\n",
       "    <tr>\n",
       "      <th>5</th>\n",
       "      <td>share-house-sydney-st-peters-2044-P1175196</td>\n",
       "      <td>345</td>\n",
       "      <td>St Peters</td>\n",
       "      <td>2022-11-29</td>\n",
       "      <td>Yes</td>\n",
       "      <td>7</td>\n",
       "      <td>6</td>\n",
       "      <td>4</td>\n",
       "    </tr>\n",
       "    <tr>\n",
       "      <th>6</th>\n",
       "      <td>share-house-sydney-chatswood-2067-P1029925</td>\n",
       "      <td>345</td>\n",
       "      <td>Chatswood</td>\n",
       "      <td>2022-11-29</td>\n",
       "      <td>Yes</td>\n",
       "      <td>7</td>\n",
       "      <td>6</td>\n",
       "      <td>2</td>\n",
       "    </tr>\n",
       "    <tr>\n",
       "      <th>7</th>\n",
       "      <td>share-house-sydney-parramatta-2150-P284733</td>\n",
       "      <td>300</td>\n",
       "      <td>Parramatta</td>\n",
       "      <td>2022-12-17</td>\n",
       "      <td>Yes</td>\n",
       "      <td>3</td>\n",
       "      <td>2</td>\n",
       "      <td>2</td>\n",
       "    </tr>\n",
       "    <tr>\n",
       "      <th>8</th>\n",
       "      <td>studio-sydney-strathfield-2135-P1267719</td>\n",
       "      <td>420</td>\n",
       "      <td>Strathfield</td>\n",
       "      <td>2022-11-29</td>\n",
       "      <td>Yes</td>\n",
       "      <td>0</td>\n",
       "      <td>1</td>\n",
       "      <td>1</td>\n",
       "    </tr>\n",
       "    <tr>\n",
       "      <th>9</th>\n",
       "      <td>share-house-sydney-palm-beach-2108-P1247120</td>\n",
       "      <td>550</td>\n",
       "      <td>Palm Beach</td>\n",
       "      <td>2022-11-29</td>\n",
       "      <td>Yes</td>\n",
       "      <td>3</td>\n",
       "      <td>3</td>\n",
       "      <td>3</td>\n",
       "    </tr>\n",
       "  </tbody>\n",
       "</table>\n",
       "</div>"
      ],
      "text/plain": [
       "                                         prop_ID  rent_pw        suburb  \\\n",
       "0      share-house-sydney-randwick-2031-P1044205      500      Randwick   \n",
       "1      share-house-sydney-randwick-2031-P1040545      550      Randwick   \n",
       "2       share-house-sydney-redfern-2016-P1197536      385       Redfern   \n",
       "3  share-house-sydney-marrickville-2204-P1268117      320  Marrickville   \n",
       "4  share-house-sydney-lavender-bay-2060-P1240929      540  Lavender Bay   \n",
       "5     share-house-sydney-st-peters-2044-P1175196      345     St Peters   \n",
       "6     share-house-sydney-chatswood-2067-P1029925      345     Chatswood   \n",
       "7     share-house-sydney-parramatta-2150-P284733      300    Parramatta   \n",
       "8        studio-sydney-strathfield-2135-P1267719      420   Strathfield   \n",
       "9    share-house-sydney-palm-beach-2108-P1247120      550    Palm Beach   \n",
       "\n",
       "  avail_date bills_inc  prop_pop  beds  baths  \n",
       "0 2022-12-02       Yes         3     3      2  \n",
       "1 2022-12-06       Yes         1     3      2  \n",
       "2 2022-11-29       Yes         2     2      2  \n",
       "3 2022-12-12       Yes         5     5      1  \n",
       "4 2023-01-02       Yes         2     2      2  \n",
       "5 2022-11-29       Yes         7     6      4  \n",
       "6 2022-11-29       Yes         7     6      2  \n",
       "7 2022-12-17       Yes         3     2      2  \n",
       "8 2022-11-29       Yes         0     1      1  \n",
       "9 2022-11-29       Yes         3     3      3  "
      ]
     },
     "execution_count": 8,
     "metadata": {},
     "output_type": "execute_result"
    }
   ],
   "source": [
    "df.head(10)"
   ]
  },
  {
   "cell_type": "markdown",
   "metadata": {},
   "source": [
    "### Getting property type from the `prop_ID` column"
   ]
  },
  {
   "cell_type": "code",
   "execution_count": 9,
   "metadata": {},
   "outputs": [],
   "source": [
    "# Initializing a property type column from the prop_ID column\n",
    "prop_type = df[\"prop_ID\"].str.split(\"-sydney\", n=1, expand=True)\n",
    "\n",
    "# Setting prop_type column first array element (first split)\n",
    "df[\"prop_type\"] = prop_type[0]\n",
    "\n",
    "# Replacing \"-\" with spaces to clean up column\n",
    "df[\"prop_type\"] = df[\"prop_type\"].replace(\"-\",\" \",regex=True)\n",
    "\n",
    "# Capitalizing column values\n",
    "df[\"prop_type\"] = df[\"prop_type\"].str.capitalize()"
   ]
  },
  {
   "cell_type": "code",
   "execution_count": 10,
   "metadata": {},
   "outputs": [
    {
     "data": {
      "text/html": [
       "<div>\n",
       "<style scoped>\n",
       "    .dataframe tbody tr th:only-of-type {\n",
       "        vertical-align: middle;\n",
       "    }\n",
       "\n",
       "    .dataframe tbody tr th {\n",
       "        vertical-align: top;\n",
       "    }\n",
       "\n",
       "    .dataframe thead th {\n",
       "        text-align: right;\n",
       "    }\n",
       "</style>\n",
       "<table border=\"1\" class=\"dataframe\">\n",
       "  <thead>\n",
       "    <tr style=\"text-align: right;\">\n",
       "      <th></th>\n",
       "      <th>prop_ID</th>\n",
       "      <th>rent_pw</th>\n",
       "      <th>suburb</th>\n",
       "      <th>avail_date</th>\n",
       "      <th>bills_inc</th>\n",
       "      <th>prop_pop</th>\n",
       "      <th>beds</th>\n",
       "      <th>baths</th>\n",
       "      <th>prop_type</th>\n",
       "    </tr>\n",
       "  </thead>\n",
       "  <tbody>\n",
       "    <tr>\n",
       "      <th>0</th>\n",
       "      <td>share-house-sydney-randwick-2031-P1044205</td>\n",
       "      <td>500</td>\n",
       "      <td>Randwick</td>\n",
       "      <td>2022-12-02</td>\n",
       "      <td>Yes</td>\n",
       "      <td>3</td>\n",
       "      <td>3</td>\n",
       "      <td>2</td>\n",
       "      <td>Share house</td>\n",
       "    </tr>\n",
       "    <tr>\n",
       "      <th>1</th>\n",
       "      <td>share-house-sydney-randwick-2031-P1040545</td>\n",
       "      <td>550</td>\n",
       "      <td>Randwick</td>\n",
       "      <td>2022-12-06</td>\n",
       "      <td>Yes</td>\n",
       "      <td>1</td>\n",
       "      <td>3</td>\n",
       "      <td>2</td>\n",
       "      <td>Share house</td>\n",
       "    </tr>\n",
       "    <tr>\n",
       "      <th>2</th>\n",
       "      <td>share-house-sydney-redfern-2016-P1197536</td>\n",
       "      <td>385</td>\n",
       "      <td>Redfern</td>\n",
       "      <td>2022-11-29</td>\n",
       "      <td>Yes</td>\n",
       "      <td>2</td>\n",
       "      <td>2</td>\n",
       "      <td>2</td>\n",
       "      <td>Share house</td>\n",
       "    </tr>\n",
       "    <tr>\n",
       "      <th>3</th>\n",
       "      <td>share-house-sydney-marrickville-2204-P1268117</td>\n",
       "      <td>320</td>\n",
       "      <td>Marrickville</td>\n",
       "      <td>2022-12-12</td>\n",
       "      <td>Yes</td>\n",
       "      <td>5</td>\n",
       "      <td>5</td>\n",
       "      <td>1</td>\n",
       "      <td>Share house</td>\n",
       "    </tr>\n",
       "    <tr>\n",
       "      <th>4</th>\n",
       "      <td>share-house-sydney-lavender-bay-2060-P1240929</td>\n",
       "      <td>540</td>\n",
       "      <td>Lavender Bay</td>\n",
       "      <td>2023-01-02</td>\n",
       "      <td>Yes</td>\n",
       "      <td>2</td>\n",
       "      <td>2</td>\n",
       "      <td>2</td>\n",
       "      <td>Share house</td>\n",
       "    </tr>\n",
       "    <tr>\n",
       "      <th>5</th>\n",
       "      <td>share-house-sydney-st-peters-2044-P1175196</td>\n",
       "      <td>345</td>\n",
       "      <td>St Peters</td>\n",
       "      <td>2022-11-29</td>\n",
       "      <td>Yes</td>\n",
       "      <td>7</td>\n",
       "      <td>6</td>\n",
       "      <td>4</td>\n",
       "      <td>Share house</td>\n",
       "    </tr>\n",
       "    <tr>\n",
       "      <th>6</th>\n",
       "      <td>share-house-sydney-chatswood-2067-P1029925</td>\n",
       "      <td>345</td>\n",
       "      <td>Chatswood</td>\n",
       "      <td>2022-11-29</td>\n",
       "      <td>Yes</td>\n",
       "      <td>7</td>\n",
       "      <td>6</td>\n",
       "      <td>2</td>\n",
       "      <td>Share house</td>\n",
       "    </tr>\n",
       "    <tr>\n",
       "      <th>7</th>\n",
       "      <td>share-house-sydney-parramatta-2150-P284733</td>\n",
       "      <td>300</td>\n",
       "      <td>Parramatta</td>\n",
       "      <td>2022-12-17</td>\n",
       "      <td>Yes</td>\n",
       "      <td>3</td>\n",
       "      <td>2</td>\n",
       "      <td>2</td>\n",
       "      <td>Share house</td>\n",
       "    </tr>\n",
       "    <tr>\n",
       "      <th>8</th>\n",
       "      <td>studio-sydney-strathfield-2135-P1267719</td>\n",
       "      <td>420</td>\n",
       "      <td>Strathfield</td>\n",
       "      <td>2022-11-29</td>\n",
       "      <td>Yes</td>\n",
       "      <td>0</td>\n",
       "      <td>1</td>\n",
       "      <td>1</td>\n",
       "      <td>Studio</td>\n",
       "    </tr>\n",
       "    <tr>\n",
       "      <th>9</th>\n",
       "      <td>share-house-sydney-palm-beach-2108-P1247120</td>\n",
       "      <td>550</td>\n",
       "      <td>Palm Beach</td>\n",
       "      <td>2022-11-29</td>\n",
       "      <td>Yes</td>\n",
       "      <td>3</td>\n",
       "      <td>3</td>\n",
       "      <td>3</td>\n",
       "      <td>Share house</td>\n",
       "    </tr>\n",
       "  </tbody>\n",
       "</table>\n",
       "</div>"
      ],
      "text/plain": [
       "                                         prop_ID  rent_pw        suburb  \\\n",
       "0      share-house-sydney-randwick-2031-P1044205      500      Randwick   \n",
       "1      share-house-sydney-randwick-2031-P1040545      550      Randwick   \n",
       "2       share-house-sydney-redfern-2016-P1197536      385       Redfern   \n",
       "3  share-house-sydney-marrickville-2204-P1268117      320  Marrickville   \n",
       "4  share-house-sydney-lavender-bay-2060-P1240929      540  Lavender Bay   \n",
       "5     share-house-sydney-st-peters-2044-P1175196      345     St Peters   \n",
       "6     share-house-sydney-chatswood-2067-P1029925      345     Chatswood   \n",
       "7     share-house-sydney-parramatta-2150-P284733      300    Parramatta   \n",
       "8        studio-sydney-strathfield-2135-P1267719      420   Strathfield   \n",
       "9    share-house-sydney-palm-beach-2108-P1247120      550    Palm Beach   \n",
       "\n",
       "  avail_date bills_inc  prop_pop  beds  baths    prop_type  \n",
       "0 2022-12-02       Yes         3     3      2  Share house  \n",
       "1 2022-12-06       Yes         1     3      2  Share house  \n",
       "2 2022-11-29       Yes         2     2      2  Share house  \n",
       "3 2022-12-12       Yes         5     5      1  Share house  \n",
       "4 2023-01-02       Yes         2     2      2  Share house  \n",
       "5 2022-11-29       Yes         7     6      4  Share house  \n",
       "6 2022-11-29       Yes         7     6      2  Share house  \n",
       "7 2022-12-17       Yes         3     2      2  Share house  \n",
       "8 2022-11-29       Yes         0     1      1       Studio  \n",
       "9 2022-11-29       Yes         3     3      3  Share house  "
      ]
     },
     "execution_count": 10,
     "metadata": {},
     "output_type": "execute_result"
    }
   ],
   "source": [
    "df.head(10)"
   ]
  },
  {
   "cell_type": "markdown",
   "metadata": {},
   "source": [
    "### Describing dataset after converting columns to relevant data types"
   ]
  },
  {
   "cell_type": "code",
   "execution_count": 11,
   "metadata": {},
   "outputs": [
    {
     "data": {
      "text/html": [
       "<div>\n",
       "<style scoped>\n",
       "    .dataframe tbody tr th:only-of-type {\n",
       "        vertical-align: middle;\n",
       "    }\n",
       "\n",
       "    .dataframe tbody tr th {\n",
       "        vertical-align: top;\n",
       "    }\n",
       "\n",
       "    .dataframe thead th {\n",
       "        text-align: right;\n",
       "    }\n",
       "</style>\n",
       "<table border=\"1\" class=\"dataframe\">\n",
       "  <thead>\n",
       "    <tr style=\"text-align: right;\">\n",
       "      <th></th>\n",
       "      <th>rent_pw</th>\n",
       "      <th>prop_pop</th>\n",
       "      <th>beds</th>\n",
       "      <th>baths</th>\n",
       "    </tr>\n",
       "  </thead>\n",
       "  <tbody>\n",
       "    <tr>\n",
       "      <th>count</th>\n",
       "      <td>252.000000</td>\n",
       "      <td>252.000000</td>\n",
       "      <td>252.000000</td>\n",
       "      <td>252.000000</td>\n",
       "    </tr>\n",
       "    <tr>\n",
       "      <th>mean</th>\n",
       "      <td>419.488095</td>\n",
       "      <td>2.293651</td>\n",
       "      <td>2.857143</td>\n",
       "      <td>1.873016</td>\n",
       "    </tr>\n",
       "    <tr>\n",
       "      <th>std</th>\n",
       "      <td>212.543569</td>\n",
       "      <td>2.025996</td>\n",
       "      <td>1.526469</td>\n",
       "      <td>0.869896</td>\n",
       "    </tr>\n",
       "    <tr>\n",
       "      <th>min</th>\n",
       "      <td>0.000000</td>\n",
       "      <td>0.000000</td>\n",
       "      <td>1.000000</td>\n",
       "      <td>1.000000</td>\n",
       "    </tr>\n",
       "    <tr>\n",
       "      <th>25%</th>\n",
       "      <td>275.000000</td>\n",
       "      <td>1.000000</td>\n",
       "      <td>2.000000</td>\n",
       "      <td>1.000000</td>\n",
       "    </tr>\n",
       "    <tr>\n",
       "      <th>50%</th>\n",
       "      <td>350.000000</td>\n",
       "      <td>2.000000</td>\n",
       "      <td>3.000000</td>\n",
       "      <td>2.000000</td>\n",
       "    </tr>\n",
       "    <tr>\n",
       "      <th>75%</th>\n",
       "      <td>530.000000</td>\n",
       "      <td>3.000000</td>\n",
       "      <td>4.000000</td>\n",
       "      <td>2.000000</td>\n",
       "    </tr>\n",
       "    <tr>\n",
       "      <th>max</th>\n",
       "      <td>1350.000000</td>\n",
       "      <td>7.000000</td>\n",
       "      <td>6.000000</td>\n",
       "      <td>4.000000</td>\n",
       "    </tr>\n",
       "  </tbody>\n",
       "</table>\n",
       "</div>"
      ],
      "text/plain": [
       "           rent_pw    prop_pop        beds       baths\n",
       "count   252.000000  252.000000  252.000000  252.000000\n",
       "mean    419.488095    2.293651    2.857143    1.873016\n",
       "std     212.543569    2.025996    1.526469    0.869896\n",
       "min       0.000000    0.000000    1.000000    1.000000\n",
       "25%     275.000000    1.000000    2.000000    1.000000\n",
       "50%     350.000000    2.000000    3.000000    2.000000\n",
       "75%     530.000000    3.000000    4.000000    2.000000\n",
       "max    1350.000000    7.000000    6.000000    4.000000"
      ]
     },
     "execution_count": 11,
     "metadata": {},
     "output_type": "execute_result"
    }
   ],
   "source": [
    "df.describe()"
   ]
  },
  {
   "cell_type": "markdown",
   "metadata": {},
   "source": [
    "## Exploratory Data Analysis"
   ]
  },
  {
   "cell_type": "markdown",
   "metadata": {},
   "source": [
    "### Exploring rent values"
   ]
  },
  {
   "cell_type": "code",
   "execution_count": 12,
   "metadata": {},
   "outputs": [
    {
     "data": {
      "image/png": "[encoded data removed]",
      "text/plain": [
       "<Figure size 1000x500 with 1 Axes>"
      ]
     },
     "metadata": {},
     "output_type": "display_data"
    }
   ],
   "source": [
    "# Creating scatterplot for rent values vs. frequency\n",
    "sns.set(rc={\"figure.figsize\":(10,5)})\n",
    "sns.scatterplot(df[\"rent_pw\"])\n",
    "plt.show()"
   ]
  },
  {
   "cell_type": "markdown",
   "metadata": {},
   "source": [
    "### Checking distribution of rent values"
   ]
  },
  {
   "cell_type": "code",
   "execution_count": 15,
   "metadata": {},
   "outputs": [
    {
     "data": {
      "image/png": "[encoded data removed]",
      "text/plain": [
       "<Figure size 1000x500 with 1 Axes>"
      ]
     },
     "metadata": {},
     "output_type": "display_data"
    }
   ],
   "source": [
    "# Plotting frequency histogram to check distribution of rent values\n",
    "sns.set(rc={\"figure.figsize\":(10,5)})\n",
    "plt.hist(df[\"rent_pw\"],color=\"salmon\",edgecolor=\"blue\")\n",
    "\n",
    "plt.title(\"Distribution of rent values\")\n",
    "plt.xlabel(\"Rent\")\n",
    "plt.ylabel(\"Frequency\")\n",
    "plt.show()"
   ]
  },
  {
   "cell_type": "markdown",
   "metadata": {},
   "source": [
    "### Heatmap to look for patterns"
   ]
  },
  {
   "cell_type": "markdown",
   "metadata": {},
   "source": [
    "#### Statement : Rent is directly proportional to beds and baths"
   ]
  },
  {
   "cell_type": "code",
   "execution_count": 16,
   "metadata": {},
   "outputs": [
    {
     "data": {
      "image/png": "[encoded data removed]",
      "text/plain": [
       "<Figure size 1000x500 with 2 Axes>"
      ]
     },
     "metadata": {},
     "output_type": "display_data"
    }
   ],
   "source": [
    "# Creating a view with only numerical values\n",
    "numerical_data = df[[\"prop_pop\",\"beds\",\"baths\",\"rent_pw\"]]\n",
    "\n",
    "# creating a heatmap of correlation amongst values\n",
    "sns.set(rc={\"figure.figsize\":(10,5)}) \n",
    "sns.heatmap(numerical_data.corr(),annot=True)\n",
    "\n",
    "plt.title(\"Correlation matrix\")\n",
    "plt.show()"
   ]
  },
  {
   "cell_type": "markdown",
   "metadata": {},
   "source": [
    "##### Negative correlation amongst rent, beds and bathrooms indicates that rent does not necessarily increase with respect to number of beds and baths. Hence it is not directly proportional."
   ]
  },
  {
   "cell_type": "markdown",
   "metadata": {},
   "source": [
    "### Checking rent values"
   ]
  },
  {
   "cell_type": "code",
   "execution_count": 17,
   "metadata": {},
   "outputs": [
    {
     "data": {
      "image/png": "[encoded data removed]",
      "text/plain": [
       "<Figure size 1000x500 with 1 Axes>"
      ]
     },
     "metadata": {},
     "output_type": "display_data"
    }
   ],
   "source": [
    "# Checking for more outliers by creating scatterplot\n",
    "sns.set(rc={\"figure.figsize\":(10,5)})\n",
    "sns.scatterplot(df[\"rent_pw\"])\n",
    "plt.ylabel(\"Rent\")\n",
    "plt.title(\"Rent Frequency Scatter\")\n",
    "plt.show()"
   ]
  },
  {
   "cell_type": "markdown",
   "metadata": {},
   "source": [
    "### Finding the minimum rent with bills included"
   ]
  },
  {
   "cell_type": "code",
   "execution_count": 18,
   "metadata": {},
   "outputs": [
    {
     "data": {
      "text/html": [
       "<div>\n",
       "<style scoped>\n",
       "    .dataframe tbody tr th:only-of-type {\n",
       "        vertical-align: middle;\n",
       "    }\n",
       "\n",
       "    .dataframe tbody tr th {\n",
       "        vertical-align: top;\n",
       "    }\n",
       "\n",
       "    .dataframe thead th {\n",
       "        text-align: right;\n",
       "    }\n",
       "</style>\n",
       "<table border=\"1\" class=\"dataframe\">\n",
       "  <thead>\n",
       "    <tr style=\"text-align: right;\">\n",
       "      <th></th>\n",
       "      <th>prop_ID</th>\n",
       "      <th>rent_pw</th>\n",
       "      <th>suburb</th>\n",
       "      <th>avail_date</th>\n",
       "      <th>bills_inc</th>\n",
       "      <th>prop_pop</th>\n",
       "      <th>beds</th>\n",
       "      <th>baths</th>\n",
       "      <th>prop_type</th>\n",
       "    </tr>\n",
       "  </thead>\n",
       "  <tbody>\n",
       "    <tr>\n",
       "      <th>251</th>\n",
       "      <td>share-house-sydney-illawong-2234-P1261324</td>\n",
       "      <td>0</td>\n",
       "      <td>Illawong</td>\n",
       "      <td>2022-11-29</td>\n",
       "      <td>Yes</td>\n",
       "      <td>2</td>\n",
       "      <td>3</td>\n",
       "      <td>1</td>\n",
       "      <td>Share house</td>\n",
       "    </tr>\n",
       "  </tbody>\n",
       "</table>\n",
       "</div>"
      ],
      "text/plain": [
       "                                       prop_ID  rent_pw    suburb avail_date  \\\n",
       "251  share-house-sydney-illawong-2234-P1261324        0  Illawong 2022-11-29   \n",
       "\n",
       "    bills_inc  prop_pop  beds  baths    prop_type  \n",
       "251       Yes         2     3      1  Share house  "
      ]
     },
     "execution_count": 18,
     "metadata": {},
     "output_type": "execute_result"
    }
   ],
   "source": [
    "# Creating views where bills are included in rent\n",
    "view = df.loc[(df[\"bills_inc\"] == \"Yes\")]\n",
    "\n",
    "# Getting rows with minimum rent where bills are included\n",
    "view.loc[(view[\"rent_pw\"] == view[\"rent_pw\"].min())]"
   ]
  },
  {
   "cell_type": "markdown",
   "metadata": {},
   "source": [
    "### Finding minimum rent where share houses have 1 bathroom per 2 people"
   ]
  },
  {
   "cell_type": "markdown",
   "metadata": {},
   "source": [
    "Property population was increased by 1 to simulate the number of bathrooms available per person after one more person moves into the property. "
   ]
  },
  {
   "cell_type": "code",
   "execution_count": 19,
   "metadata": {},
   "outputs": [
    {
     "data": {
      "text/html": [
       "<div>\n",
       "<style scoped>\n",
       "    .dataframe tbody tr th:only-of-type {\n",
       "        vertical-align: middle;\n",
       "    }\n",
       "\n",
       "    .dataframe tbody tr th {\n",
       "        vertical-align: top;\n",
       "    }\n",
       "\n",
       "    .dataframe thead th {\n",
       "        text-align: right;\n",
       "    }\n",
       "</style>\n",
       "<table border=\"1\" class=\"dataframe\">\n",
       "  <thead>\n",
       "    <tr style=\"text-align: right;\">\n",
       "      <th></th>\n",
       "      <th>prop_ID</th>\n",
       "      <th>rent_pw</th>\n",
       "      <th>suburb</th>\n",
       "      <th>avail_date</th>\n",
       "      <th>bills_inc</th>\n",
       "      <th>prop_pop</th>\n",
       "      <th>beds</th>\n",
       "      <th>baths</th>\n",
       "      <th>prop_type</th>\n",
       "      <th>bath_to_pop_ratio</th>\n",
       "    </tr>\n",
       "  </thead>\n",
       "  <tbody>\n",
       "    <tr>\n",
       "      <th>177</th>\n",
       "      <td>share-house-sydney-penrith-2750-P955039</td>\n",
       "      <td>0</td>\n",
       "      <td>Penrith</td>\n",
       "      <td>2022-11-29</td>\n",
       "      <td>No</td>\n",
       "      <td>1</td>\n",
       "      <td>3</td>\n",
       "      <td>2</td>\n",
       "      <td>Share house</td>\n",
       "      <td>1.0</td>\n",
       "    </tr>\n",
       "  </tbody>\n",
       "</table>\n",
       "</div>"
      ],
      "text/plain": [
       "                                     prop_ID  rent_pw   suburb avail_date  \\\n",
       "177  share-house-sydney-penrith-2750-P955039        0  Penrith 2022-11-29   \n",
       "\n",
       "    bills_inc  prop_pop  beds  baths    prop_type  bath_to_pop_ratio  \n",
       "177        No         1     3      2  Share house                1.0  "
      ]
     },
     "execution_count": 19,
     "metadata": {},
     "output_type": "execute_result"
    }
   ],
   "source": [
    "# Creating bath-to-pop ratio column (rounded to one decimal)\n",
    "df[\"bath_to_pop_ratio\"] = (df[\"baths\"]/(df[\"prop_pop\"]+1)).round(1)\n",
    "\n",
    "# Getting share houses where there are atleast 1 bathroom per 2 bedrooms\n",
    "view = df.loc[(df[\"bath_to_pop_ratio\"] >= 0.5) & (df[\"prop_type\"] == \"Share house\")]\n",
    "\n",
    "# getting minimum rent where there are atleast 1 bathroom per 2 bedrooms\n",
    "view.loc[(view[\"rent_pw\"] == view[\"rent_pw\"].min())]"
   ]
  },
  {
   "cell_type": "markdown",
   "metadata": {},
   "source": [
    "### Share houses with a population between 1 and 3"
   ]
  },
  {
   "cell_type": "code",
   "execution_count": 20,
   "metadata": {},
   "outputs": [
    {
     "data": {
      "text/html": [
       "<div>\n",
       "<style scoped>\n",
       "    .dataframe tbody tr th:only-of-type {\n",
       "        vertical-align: middle;\n",
       "    }\n",
       "\n",
       "    .dataframe tbody tr th {\n",
       "        vertical-align: top;\n",
       "    }\n",
       "\n",
       "    .dataframe thead th {\n",
       "        text-align: right;\n",
       "    }\n",
       "</style>\n",
       "<table border=\"1\" class=\"dataframe\">\n",
       "  <thead>\n",
       "    <tr style=\"text-align: right;\">\n",
       "      <th></th>\n",
       "      <th>prop_ID</th>\n",
       "      <th>rent_pw</th>\n",
       "      <th>suburb</th>\n",
       "      <th>avail_date</th>\n",
       "      <th>bills_inc</th>\n",
       "      <th>prop_pop</th>\n",
       "      <th>beds</th>\n",
       "      <th>baths</th>\n",
       "      <th>prop_type</th>\n",
       "      <th>bath_to_pop_ratio</th>\n",
       "    </tr>\n",
       "  </thead>\n",
       "  <tbody>\n",
       "    <tr>\n",
       "      <th>177</th>\n",
       "      <td>share-house-sydney-penrith-2750-P955039</td>\n",
       "      <td>0</td>\n",
       "      <td>Penrith</td>\n",
       "      <td>2022-11-29</td>\n",
       "      <td>No</td>\n",
       "      <td>1</td>\n",
       "      <td>3</td>\n",
       "      <td>2</td>\n",
       "      <td>Share house</td>\n",
       "      <td>1.0</td>\n",
       "    </tr>\n",
       "    <tr>\n",
       "      <th>251</th>\n",
       "      <td>share-house-sydney-illawong-2234-P1261324</td>\n",
       "      <td>0</td>\n",
       "      <td>Illawong</td>\n",
       "      <td>2022-11-29</td>\n",
       "      <td>Yes</td>\n",
       "      <td>2</td>\n",
       "      <td>3</td>\n",
       "      <td>1</td>\n",
       "      <td>Share house</td>\n",
       "      <td>0.3</td>\n",
       "    </tr>\n",
       "  </tbody>\n",
       "</table>\n",
       "</div>"
      ],
      "text/plain": [
       "                                       prop_ID  rent_pw    suburb avail_date  \\\n",
       "177    share-house-sydney-penrith-2750-P955039        0   Penrith 2022-11-29   \n",
       "251  share-house-sydney-illawong-2234-P1261324        0  Illawong 2022-11-29   \n",
       "\n",
       "    bills_inc  prop_pop  beds  baths    prop_type  bath_to_pop_ratio  \n",
       "177        No         1     3      2  Share house                1.0  \n",
       "251       Yes         2     3      1  Share house                0.3  "
      ]
     },
     "execution_count": 20,
     "metadata": {},
     "output_type": "execute_result"
    }
   ],
   "source": [
    "# Creating views to get share houses with a population in range 1 - 3 (inclusive)\n",
    "view = df.loc[(df[\"prop_pop\"] >= 1) & (df[\"prop_pop\"] <= 3) & (df[\"prop_type\"] == \"Share house\")]\n",
    "view.loc[(view[\"rent_pw\"] == view[\"rent_pw\"].min())]"
   ]
  },
  {
   "cell_type": "markdown",
   "metadata": {},
   "source": [
    "### Average rent by property type"
   ]
  },
  {
   "cell_type": "code",
   "execution_count": 21,
   "metadata": {},
   "outputs": [
    {
     "name": "stderr",
     "output_type": "stream",
     "text": [
      "/tmp/ipykernel_33467/3086092966.py:1: FutureWarning: The default value of numeric_only in DataFrameGroupBy.mean is deprecated. In a future version, numeric_only will default to False. Either specify numeric_only or select only columns which should be valid for the function.\n",
      "  avg_rent_per_prop = df.groupby([\"prop_type\"], as_index=False).mean()\n"
     ]
    },
    {
     "data": {
      "text/html": [
       "<div>\n",
       "<style scoped>\n",
       "    .dataframe tbody tr th:only-of-type {\n",
       "        vertical-align: middle;\n",
       "    }\n",
       "\n",
       "    .dataframe tbody tr th {\n",
       "        vertical-align: top;\n",
       "    }\n",
       "\n",
       "    .dataframe thead th {\n",
       "        text-align: right;\n",
       "    }\n",
       "</style>\n",
       "<table border=\"1\" class=\"dataframe\">\n",
       "  <thead>\n",
       "    <tr style=\"text-align: right;\">\n",
       "      <th></th>\n",
       "      <th>Prop_type</th>\n",
       "      <th>Average Rent</th>\n",
       "    </tr>\n",
       "  </thead>\n",
       "  <tbody>\n",
       "    <tr>\n",
       "      <th>0</th>\n",
       "      <td>1 bed</td>\n",
       "      <td>747.307692</td>\n",
       "    </tr>\n",
       "    <tr>\n",
       "      <th>1</th>\n",
       "      <td>Granny flat</td>\n",
       "      <td>407.500000</td>\n",
       "    </tr>\n",
       "    <tr>\n",
       "      <th>2</th>\n",
       "      <td>Homestay</td>\n",
       "      <td>203.333333</td>\n",
       "    </tr>\n",
       "    <tr>\n",
       "      <th>3</th>\n",
       "      <td>Share house</td>\n",
       "      <td>339.988827</td>\n",
       "    </tr>\n",
       "    <tr>\n",
       "      <th>4</th>\n",
       "      <td>Student accommodation</td>\n",
       "      <td>418.666667</td>\n",
       "    </tr>\n",
       "    <tr>\n",
       "      <th>5</th>\n",
       "      <td>Studio</td>\n",
       "      <td>486.000000</td>\n",
       "    </tr>\n",
       "    <tr>\n",
       "      <th>6</th>\n",
       "      <td>Whole property</td>\n",
       "      <td>972.727273</td>\n",
       "    </tr>\n",
       "  </tbody>\n",
       "</table>\n",
       "</div>"
      ],
      "text/plain": [
       "               Prop_type  Average Rent\n",
       "0                  1 bed    747.307692\n",
       "1            Granny flat    407.500000\n",
       "2               Homestay    203.333333\n",
       "3            Share house    339.988827\n",
       "4  Student accommodation    418.666667\n",
       "5                 Studio    486.000000\n",
       "6         Whole property    972.727273"
      ]
     },
     "execution_count": 21,
     "metadata": {},
     "output_type": "execute_result"
    }
   ],
   "source": [
    "avg_rent_per_prop = df.groupby([\"prop_type\"], as_index=False).mean()\n",
    "avg_rent_per_prop = avg_rent_per_prop[[\"prop_type\",\"rent_pw\"]]\n",
    "avg_rent_per_prop.columns = [\"Prop_type\",\"Average Rent\"]\n",
    "avg_rent_per_prop"
   ]
  },
  {
   "cell_type": "code",
   "execution_count": 22,
   "metadata": {},
   "outputs": [
    {
     "data": {
      "image/png": "[encoded data removed]",
      "text/plain": [
       "<Figure size 1000x500 with 1 Axes>"
      ]
     },
     "metadata": {},
     "output_type": "display_data"
    }
   ],
   "source": [
    "sns.set(rc={\"figure.figsize\":(10,5)})\n",
    "palette = sns.color_palette(\"Reds_d\", len(avg_rent_per_prop)+6)\n",
    "fig = sns.barplot(avg_rent_per_prop,x=\"Prop_type\",y=\"Average Rent\",palette=palette)\n",
    "fig.set_xticklabels(fig.get_xticklabels(),fontsize=10, rotation =30, ha=\"right\")\n",
    "plt.ylabel(\"Property Type\")\n",
    "plt.xlabel(\"Average rent\")\n",
    "plt.show() "
   ]
  },
  {
   "cell_type": "markdown",
   "metadata": {},
   "source": [
    "### Properties available in the next 10 days"
   ]
  },
  {
   "cell_type": "code",
   "execution_count": 23,
   "metadata": {},
   "outputs": [
    {
     "name": "stdout",
     "output_type": "stream",
     "text": [
      "1 properties available in 10 days\n"
     ]
    }
   ],
   "source": [
    "# Initializing empty column\n",
    "df[\"days_to_avail\"] = \"\"\n",
    "\n",
    "# Converting datetime.date into datetime64 data type\n",
    "today = pd.to_datetime(date.today())\n",
    "\n",
    "# Filling column with difference of dates\n",
    "df[\"days_to_avail\"] = (df[\"avail_date\"] - today)\n",
    "\n",
    "# Convertin column to string\n",
    "df[\"days_to_avail\"] = df[\"days_to_avail\"].astype(\"string\")\n",
    "\n",
    "# Splitting column strings to remove \" days\"\n",
    "days = df[\"days_to_avail\"].str.split(\" \", n=1,expand=True)\n",
    "\n",
    "# Replacing column values with numeric part\n",
    "df[\"days_to_avail\"] = days[0]\n",
    "\n",
    "# Converting column to numeric\n",
    "df[\"days_to_avail\"] = pd.to_numeric(df[\"days_to_avail\"])\n",
    "\n",
    "# Initializing the number of days\n",
    "days = 10\n",
    "\n",
    "# Selecting properties that are available in the next 10 days\n",
    "view = df.loc[(df[\"days_to_avail\"] == days)]\n",
    "\n",
    "# Printing count of available properties\n",
    "print(f'{view[\"prop_ID\"].count()} properties available in {days} days')\n",
    "\n"
   ]
  }
 ],
 "metadata": {
  "kernelspec": {
   "display_name": "Python 3.9.12 ('rea-data': venv)",
   "language": "python",
   "name": "python3"
  },
  "language_info": {
   "codemirror_mode": {
    "name": "ipython",
    "version": 3
   },
   "file_extension": ".py",
   "mimetype": "text/x-python",
   "name": "python",
   "nbconvert_exporter": "python",
   "pygments_lexer": "ipython3",
   "version": "3.9.12"
  },
  "orig_nbformat": 4,
  "vscode": {
   "interpreter": {
    "hash": "32ef60608d976bbe790f68be48eac482e93a00f28cc4f06ded99ea04536c5dc8"
   }
  }
 },
 "nbformat": 4,
 "nbformat_minor": 2
}
